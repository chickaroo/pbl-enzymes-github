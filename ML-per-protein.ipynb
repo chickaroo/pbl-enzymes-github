{
 "cells": [
  {
   "cell_type": "code",
   "execution_count": 1,
   "id": "9f1003ec",
   "metadata": {},
   "outputs": [],
   "source": [
    "import numpy as np\n",
    "import pandas as pd\n",
    "import h5py\n",
    "import matplotlib.pyplot as plt\n",
    "import scipy.stats as st\n",
    "import joblib\n",
    "\n",
    "from scipy.stats import t\n",
    "from sklearn import datasets\n",
    "from random import choices\n",
    "from sklearn.neural_network import MLPClassifier\n",
    "from sklearn.model_selection import GridSearchCV, PredefinedSplit\n",
    "from sklearn.metrics import confusion_matrix, f1_score, matthews_corrcoef, mean_squared_error, ConfusionMatrixDisplay, accuracy_score"
   ]
  },
  {
   "cell_type": "code",
   "execution_count": 2,
   "id": "c3cabc56",
   "metadata": {},
   "outputs": [],
   "source": [
    "def main():\n",
    "    \n",
    "    prot_embeddings_in = 'protein_embeddings_only_enzymes.h5'\n",
    "\n",
    "    # read per-protein embeddings into a dictionary with key: Uniprot id, value: 1024-d embedding\n",
    "    counter = 0\n",
    "    prot_embeddings = dict()\n",
    "    with h5py.File(prot_embeddings_in, 'r') as f:\n",
    "        for key, embedding in f.items():\n",
    "            original_id = embedding.attrs['original_id']\n",
    "            prot_embeddings[original_id] = np.array(embedding)\n",
    "    return prot_embeddings\n",
    "\n",
    "enzyme_embeddings = pd.DataFrame.from_dict(main())"
   ]
  },
  {
   "cell_type": "code",
   "execution_count": 3,
   "id": "ae3eb397",
   "metadata": {},
   "outputs": [],
   "source": [
    "annotations = pd.read_csv('Data_set/ec_annotations_single.tab', sep='\\t')\n",
    "annotations['EC number'] = annotations['EC number'].str[:1]\n",
    "training = pd.read_table('Data_set/train_set.fasta', sep='\\n', skiprows=lambda x: (x != 0) and not x % 2 == 0)\n",
    "validation = pd.read_table('Data_set/val_set.fasta', sep='\\n', skiprows=lambda x: (x != 0) and not x % 2 == 0)\n",
    "test = pd.read_table('Data_set/test_set.fasta', sep='\\n', skiprows=lambda x: (x != 0) and not x % 2 == 0)\n",
    "head = training.columns\n",
    "training.loc[-1] = head[0]\n",
    "training.reset_index(drop=True, inplace=True)\n",
    "training.rename(columns={head[0]: 'Entry'}, inplace=True)\n",
    "training['Entry'] = training['Entry'].str[1:]\n",
    "head = validation.columns\n",
    "validation.loc[-1] = head[0]\n",
    "validation.reset_index(drop=True, inplace=True)\n",
    "validation.rename(columns={head[0]: 'Entry'}, inplace=True)\n",
    "validation['Entry'] = validation['Entry'].str[1:]\n",
    "head = test.columns\n",
    "test.loc[-1] = head[0]\n",
    "test.reset_index(drop=True, inplace=True)\n",
    "test.rename(columns={head[0]: 'Entry'}, inplace=True)\n",
    "test['Entry'] = test['Entry'].str[1:]"
   ]
  },
  {
   "cell_type": "code",
   "execution_count": 4,
   "id": "cfd9c13d",
   "metadata": {},
   "outputs": [],
   "source": [
    "training_embeddings = (((enzyme_embeddings[enzyme_embeddings.columns.intersection(training['Entry'].tolist())]).T).reset_index(level=0)).rename(columns={'index': 'Entry'})\n",
    "validation_embeddings = (((enzyme_embeddings[enzyme_embeddings.columns.intersection(validation['Entry'].tolist())]).T).reset_index(level=0)).rename(columns={'index': 'Entry'})\n",
    "test_embeddings = (((enzyme_embeddings[enzyme_embeddings.columns.intersection(test['Entry'].tolist())]).T).reset_index(level=0)).rename(columns={'index': 'Entry'})"
   ]
  },
  {
   "cell_type": "code",
   "execution_count": 18,
   "id": "28ed02db",
   "metadata": {
    "scrolled": true
   },
   "outputs": [],
   "source": [
    "X_train = pd.merge(training_embeddings, annotations)\n",
    "y_train = X_train['EC number']\n",
    "X_train.drop(columns=['Entry', 'EC number'], inplace = True)\n",
    "y_train = y_train.to_numpy(dtype=int)\n",
    "X_val = pd.merge(validation_embeddings, annotations)\n",
    "y_val = X_val['EC number']\n",
    "X_val.drop(columns=['Entry', 'EC number'], inplace = True)\n",
    "y_val = y_val.to_numpy(dtype=int)\n",
    "X_test = pd.merge(test_embeddings, annotations)\n",
    "y_test = X_test['EC number']\n",
    "X_test.drop(columns=['Entry', 'EC number'], inplace = True)\n",
    "y_test = y_test.to_numpy(dtype=int)\n",
    "# X_train = pd.concat([X_train, X_val]).reset_index(drop=True)\n",
    "# y_train = np.concatenate((y_train, y_val))"
   ]
  },
  {
   "cell_type": "code",
   "execution_count": 6,
   "id": "fb61735f",
   "metadata": {},
   "outputs": [],
   "source": [
    "# predefined_val = np.empty((17790))\n",
    "# predefined_val.fill(-1)\n",
    "\n",
    "# for i in range(17663, 17790):\n",
    "#     predefined_val[i] = 0\n",
    "# ps = PredefinedSplit(test_fold = predefined_val)"
   ]
  },
  {
   "cell_type": "code",
   "execution_count": 7,
   "id": "6f6e6843",
   "metadata": {},
   "outputs": [],
   "source": [
    "# classifier = MLPClassifier(hidden_layer_sizes=(400, 72,), solver='adam', activation='relu', \n",
    "#                            early_stopping=False, warm_start=True)\n",
    "\n",
    "# params = {'random_state': [14, 27, 39],\n",
    "#          'learning_rate_init': [0.01, 0.005, 0.001],\n",
    "#          'max_iter': [50, 100, 150, 200, 300]}\n",
    "\n",
    "# grid = GridSearchCV(estimator=classifier, cv=ps, param_grid=params, \n",
    "#                    return_train_score=True, n_jobs = 2, verbose = 10, scoring='f1_weighted')\n",
    "\n",
    "# grid.fit(X_train, y_train)\n",
    "# pd.set_option('display.max_rows', None)"
   ]
  },
  {
   "cell_type": "code",
   "execution_count": 8,
   "id": "ca0af426",
   "metadata": {},
   "outputs": [],
   "source": [
    "# params_layers = []\n",
    "# for x in range(256, 513, 32):\n",
    "#     for y in range(64, x+1, 64):\n",
    "#         params_layers.append((x,y))\n",
    "# len(params_layers)"
   ]
  },
  {
   "cell_type": "code",
   "execution_count": 9,
   "id": "b22ede7f",
   "metadata": {},
   "outputs": [],
   "source": [
    "# cv_results = pd.DataFrame(grid.cv_results_)\n",
    "# print(grid.best_params_) \n",
    "# cv_results"
   ]
  },
  {
   "cell_type": "code",
   "execution_count": 10,
   "id": "ba8cada2",
   "metadata": {
    "scrolled": true
   },
   "outputs": [],
   "source": [
    "# classifier = MLPClassifier(hidden_layer_sizes=x, activation='relu', solver='adam', \n",
    "#                                early_stopping=False, learning_rate_init=0.001, max_iter=120, warm_start=True)\n",
    "# classifier.fit(X_train, y_train)"
   ]
  },
  {
   "cell_type": "code",
   "execution_count": 11,
   "id": "690f5b83",
   "metadata": {},
   "outputs": [],
   "source": [
    "classifier = joblib.load('final-per-protein')"
   ]
  },
  {
   "cell_type": "code",
   "execution_count": 12,
   "id": "e7624259",
   "metadata": {},
   "outputs": [],
   "source": [
    "y_pred = classifier.predict(X_val)\n",
    "pred_score = classifier.score(X_val, y_val)\n",
    "val = pd.merge(validation_embeddings, annotations)\n",
    "bootstrapping_acc = []\n",
    "bootstrapping_mcc = []\n",
    "bootstrapping_f1 = []\n",
    "for i in range(1000):\n",
    "    choice = pd.DataFrame(choices(val.to_numpy(), k=127))\n",
    "    y_choice = choice[1025].to_numpy(dtype=int)\n",
    "    X_choice = choice.drop(columns=[0, 1025])\n",
    "    acc = classifier.score(X_choice, y_choice)\n",
    "    mcc = matthews_corrcoef(y_choice, classifier.predict(X_choice))\n",
    "    f1 =  f1_score(y_choice, classifier.predict(X_choice), average = 'weighted')\n",
    "    bootstrapping_acc.append(acc)\n",
    "    bootstrapping_mcc.append(mcc)\n",
    "    bootstrapping_f1.append(f1)"
   ]
  },
  {
   "cell_type": "code",
   "execution_count": 13,
   "id": "29c8a14a",
   "metadata": {},
   "outputs": [
    {
     "data": {
      "image/png": "[encoded data removed]",
      "text/plain": [
       "<Figure size 432x288 with 2 Axes>"
      ]
     },
     "metadata": {
      "needs_background": "light"
     },
     "output_type": "display_data"
    },
    {
     "name": "stdout",
     "output_type": "stream",
     "text": [
      "Acc: 0.73228\n",
      "F1: 0.7326016158175296\n",
      "MCC: 0.6434934542821036\n",
      "SE for Accuracy: 0.038539815498193\n",
      "SE for MCC: 0.050045488881934316\n",
      "SE for F1: 0.0401840374470412\n",
      "CI for Accuracy: 0.07562818611994337\n",
      "CI for MCC: 0.09820621865208318\n",
      "CI for F1: 0.07885470710772077\n"
     ]
    }
   ],
   "source": [
    "SE_acc = np.std(bootstrapping_acc)\n",
    "SE_mcc = np.std(bootstrapping_mcc)\n",
    "SE_f1 = np.std(bootstrapping_f1)\n",
    "cm = confusion_matrix(y_val, y_pred)\n",
    "f1 = f1_score(y_val, y_pred, average = 'weighted')\n",
    "mcc = matthews_corrcoef(y_val, y_pred)\n",
    "disp = ConfusionMatrixDisplay(confusion_matrix=cm, display_labels=classifier.classes_)\n",
    "disp.plot()\n",
    "plt.show()\n",
    "print('Acc: {}'.format(round(pred_score, 5)))\n",
    "print('F1:', f1)\n",
    "print('MCC:', mcc)\n",
    "print('SE for Accuracy:', SE_acc)\n",
    "print('SE for MCC:', SE_mcc)\n",
    "print('SE for F1:', SE_f1)\n",
    "print('CI for Accuracy:', np.std(bootstrapping_acc) * t.ppf((1 + 0.95) / 2, len(bootstrapping_acc)))\n",
    "print('CI for MCC:', np.std(bootstrapping_mcc) * t.ppf((1 + 0.95) / 2, len(bootstrapping_mcc)))\n",
    "print('CI for F1:', np.std(bootstrapping_f1) * t.ppf((1 + 0.95) / 2, len(bootstrapping_f1)))"
   ]
  },
  {
   "cell_type": "code",
   "execution_count": 14,
   "id": "12db302f",
   "metadata": {},
   "outputs": [],
   "source": [
    "y_pred = classifier.predict(X_test)\n",
    "pred_score = classifier.score(X_test, y_test)\n",
    "test = pd.merge(test_embeddings, annotations)\n",
    "bootstrapping_acc = []\n",
    "bootstrapping_mcc = []\n",
    "bootstrapping_f1 = []\n",
    "for i in range(1000):\n",
    "    choice = pd.DataFrame(choices(test.to_numpy(), k=127))\n",
    "    y_choice = choice[1025].to_numpy(dtype=int)\n",
    "    X_choice = choice.drop(columns=[0, 1025])\n",
    "    acc = classifier.score(X_choice, y_choice)\n",
    "    mcc = matthews_corrcoef(y_choice, classifier.predict(X_choice))\n",
    "    f1 =  f1_score(y_choice, classifier.predict(X_choice), average = 'weighted')\n",
    "    bootstrapping_acc.append(acc)\n",
    "    bootstrapping_mcc.append(mcc)\n",
    "    bootstrapping_f1.append(f1)"
   ]
  },
  {
   "cell_type": "code",
   "execution_count": 15,
   "id": "d03afc95",
   "metadata": {},
   "outputs": [
    {
     "data": {
      "image/png": "[encoded data removed]",
      "text/plain": [
       "<Figure size 432x288 with 2 Axes>"
      ]
     },
     "metadata": {
      "needs_background": "light"
     },
     "output_type": "display_data"
    },
    {
     "name": "stdout",
     "output_type": "stream",
     "text": [
      "Acc: 0.72872\n",
      "F1: 0.708619653240633\n",
      "MCC: 0.632107198749175\n",
      "SE for Accuracy: 0.03978309268255708\n",
      "SE for MCC: 0.05205487996116448\n",
      "SE for F1: 0.04387084702690485\n",
      "CI for Accuracy: 0.07806791752712083\n",
      "CI for MCC: 0.10214932529552048\n",
      "CI for F1: 0.08608947762985239\n"
     ]
    }
   ],
   "source": [
    "SE_acc = np.std(bootstrapping_acc)\n",
    "SE_mcc = np.std(bootstrapping_mcc)\n",
    "SE_f1 = np.std(bootstrapping_f1)\n",
    "cm = confusion_matrix(y_test, y_pred)\n",
    "f1 = f1_score(y_test, y_pred, average = 'weighted')\n",
    "mcc = matthews_corrcoef(y_test, y_pred)\n",
    "disp = ConfusionMatrixDisplay(confusion_matrix=cm, display_labels=classifier.classes_)\n",
    "disp.plot()\n",
    "plt.show()\n",
    "print('Acc: {}'.format(round(pred_score, 5)))\n",
    "print('F1:', f1)\n",
    "print('MCC:', mcc)\n",
    "print('SE for Accuracy:', SE_acc)\n",
    "print('SE for MCC:', SE_mcc)\n",
    "print('SE for F1:', SE_f1)\n",
    "print('CI for Accuracy:', np.std(bootstrapping_acc) * t.ppf((1 + 0.95) / 2, len(bootstrapping_acc)))\n",
    "print('CI for MCC:', np.std(bootstrapping_mcc) * t.ppf((1 + 0.95) / 2, len(bootstrapping_mcc)))\n",
    "print('CI for F1:', np.std(bootstrapping_f1) * t.ppf((1 + 0.95) / 2, len(bootstrapping_f1)))"
   ]
  },
  {
   "cell_type": "code",
   "execution_count": 16,
   "id": "4e49aedb",
   "metadata": {},
   "outputs": [],
   "source": [
    "# import seaborn as sns\n",
    "\n",
    "# plot = sns.heatmap(cm, annot=True, center=20.0, cbar=False)\n",
    "# plot.set_xticklabels([1,2,3,4,5,6,7])\n",
    "# plot.set_yticklabels([1,2,3,4,5,6,7])\n",
    "# plt.xlabel('Predicted label', fontsize=16)\n",
    "# plt.ylabel('True label', fontsize=16)\n",
    "# plot.set_title('Confusion Matrix', fontsize=20)\n",
    "# fig=plot.get_figure()\n",
    "# fig.savefig('confusion_matrix1.png')"
   ]
  }
 ],
 "metadata": {
  "kernelspec": {
   "display_name": "Python 3",
   "language": "python",
   "name": "python3"
  },
  "language_info": {
   "codemirror_mode": {
    "name": "ipython",
    "version": 3
   },
   "file_extension": ".py",
   "mimetype": "text/x-python",
   "name": "python",
   "nbconvert_exporter": "python",
   "pygments_lexer": "ipython3",
   "version": "3.8.8"
  }
 },
 "nbformat": 4,
 "nbformat_minor": 5
}
