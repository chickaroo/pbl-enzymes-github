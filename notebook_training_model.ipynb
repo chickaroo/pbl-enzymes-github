{
 "cells": [
  {
   "cell_type": "code",
   "execution_count": 1,
   "id": "c0a376b5",
   "metadata": {},
   "outputs": [],
   "source": [
    "# define inputs\n",
    "import numpy as np\n",
    "import pandas as pd\n",
    "import h5py\n",
    "\n",
    "#from sklearn import datasets\n",
    "from sklearn.neural_network import MLPClassifier\n",
    "from sklearn.model_selection import train_test_split, StratifiedKFold, GridSearchCV, PredefinedSplit\n",
    "from sklearn.metrics import confusion_matrix, accuracy_score, f1_score, matthews_corrcoef"
   ]
  },
  {
   "cell_type": "code",
   "execution_count": 2,
   "id": "d1ca0701",
   "metadata": {},
   "outputs": [],
   "source": [
    "train_f = h5py.File('data/annots_embeds_per_residue_train.hdf5', 'r')\n",
    "val_f = h5py.File('data/annots_embeds_per_residue_val.hdf5', 'r')"
   ]
  },
  {
   "cell_type": "code",
   "execution_count": 3,
   "id": "ade5520e",
   "metadata": {},
   "outputs": [],
   "source": [
    "X_train = np.array(train_f['embeds'])\n",
    "y_train = np.array(train_f['annots'])"
   ]
  },
  {
   "cell_type": "code",
   "execution_count": 4,
   "id": "4fc7febe",
   "metadata": {},
   "outputs": [
    {
     "data": {
      "text/plain": [
       "array([[ 0.4126  , -0.02074 ,  0.02621 , ...,  0.09814 ,  0.11816 ,\n",
       "         0.2842  ],\n",
       "       [ 0.03204 ,  0.01078 , -0.2051  , ..., -0.10077 ,  0.08417 ,\n",
       "        -0.0352  ],\n",
       "       [ 0.3374  , -0.0746  , -0.001157, ..., -0.02116 ,  0.22    ,\n",
       "         0.094   ],\n",
       "       ...,\n",
       "       [-0.002693,  0.04977 ,  0.11584 , ..., -0.2678  ,  0.10913 ,\n",
       "        -0.147   ],\n",
       "       [-0.0862  , -0.0844  ,  0.04224 , ..., -0.3442  ,  0.2087  ,\n",
       "         0.0825  ],\n",
       "       [-0.0757  , -0.2196  ,  0.2238  , ..., -0.2086  ,  0.06537 ,\n",
       "        -0.1179  ]], dtype=float16)"
      ]
     },
     "execution_count": 4,
     "metadata": {},
     "output_type": "execute_result"
    }
   ],
   "source": [
    "X_train"
   ]
  },
  {
   "cell_type": "code",
   "execution_count": 4,
   "id": "a8c2d365",
   "metadata": {},
   "outputs": [
    {
     "name": "stdout",
     "output_type": "stream",
     "text": [
      "Iteration 1, loss = 0.48001414\n",
      "Iteration 2, loss = 0.26778793\n",
      "Iteration 3, loss = 0.21495559\n",
      "Iteration 4, loss = 0.19054159\n",
      "Iteration 5, loss = 0.17690112\n",
      "Iteration 6, loss = 0.16807406\n",
      "Iteration 7, loss = 0.16188376\n",
      "Iteration 8, loss = 0.15734612\n",
      "Iteration 9, loss = 0.15417674\n",
      "Iteration 10, loss = 0.15123275\n",
      "Iteration 11, loss = 0.14912941\n",
      "Iteration 12, loss = 0.14703401\n",
      "Iteration 13, loss = 0.14531875\n",
      "Iteration 14, loss = 0.14389893\n",
      "Iteration 15, loss = 0.14257342\n",
      "Iteration 16, loss = 0.14150549\n",
      "Iteration 17, loss = 0.14017352\n",
      "Iteration 18, loss = 0.13944663\n",
      "Iteration 19, loss = 0.13839702\n",
      "Iteration 20, loss = 0.13739798\n",
      "Iteration 21, loss = 0.13647368\n",
      "Iteration 22, loss = 0.13578110\n",
      "Iteration 23, loss = 0.13521131\n",
      "Iteration 24, loss = 0.13464352\n",
      "Iteration 25, loss = 0.13396186\n",
      "Iteration 26, loss = 0.13316092\n",
      "Iteration 27, loss = 0.13267753\n",
      "Iteration 28, loss = 0.13221786\n",
      "Iteration 29, loss = 0.13162576\n",
      "Iteration 30, loss = 0.13105611\n",
      "Iteration 31, loss = 0.13057408\n",
      "Iteration 32, loss = 0.12999466\n",
      "Iteration 33, loss = 0.12953691\n",
      "Iteration 34, loss = 0.12912180\n",
      "Iteration 35, loss = 0.12860751\n",
      "Iteration 36, loss = 0.12826691\n",
      "Iteration 37, loss = 0.12788678\n",
      "Iteration 38, loss = 0.12740986\n",
      "Iteration 39, loss = 0.12719585\n",
      "Iteration 40, loss = 0.12677608\n",
      "Iteration 41, loss = 0.12642075\n",
      "Iteration 42, loss = 0.12612359\n",
      "Iteration 43, loss = 0.12565465\n",
      "Iteration 44, loss = 0.12555963\n",
      "Iteration 45, loss = 0.12508084\n",
      "Iteration 46, loss = 0.12485992\n",
      "Iteration 47, loss = 0.12435727\n",
      "Iteration 48, loss = 0.12412028\n",
      "Iteration 49, loss = 0.12399474\n",
      "Iteration 50, loss = 0.12374517\n",
      "Iteration 51, loss = 0.12343461\n",
      "Iteration 52, loss = 0.12303937\n",
      "Iteration 53, loss = 0.12283836\n",
      "Iteration 54, loss = 0.12265177\n",
      "Iteration 55, loss = 0.12238883\n",
      "Iteration 56, loss = 0.12220922\n",
      "Iteration 57, loss = 0.12190618\n",
      "Iteration 58, loss = 0.12162095\n",
      "Iteration 59, loss = 0.12163629\n",
      "Iteration 60, loss = 0.12123178\n",
      "Iteration 61, loss = 0.12109890\n",
      "Iteration 62, loss = 0.12090911\n",
      "Iteration 63, loss = 0.12066713\n",
      "Iteration 64, loss = 0.12046150\n",
      "Iteration 65, loss = 0.12028169\n",
      "Iteration 66, loss = 0.12005850\n",
      "Iteration 67, loss = 0.11986781\n",
      "Iteration 68, loss = 0.11981931\n",
      "Iteration 69, loss = 0.11950827\n",
      "Iteration 70, loss = 0.11945926\n",
      "Iteration 71, loss = 0.11944638\n",
      "Iteration 72, loss = 0.11912582\n",
      "Iteration 73, loss = 0.11900406\n",
      "Iteration 74, loss = 0.11865840\n",
      "Iteration 75, loss = 0.11855903\n",
      "Iteration 76, loss = 0.11844381\n",
      "Iteration 77, loss = 0.11825758\n",
      "Iteration 78, loss = 0.11803201\n",
      "Iteration 79, loss = 0.11789295\n",
      "Iteration 80, loss = 0.11768720\n",
      "Iteration 81, loss = 0.11747687\n",
      "Iteration 82, loss = 0.11741957\n",
      "Iteration 83, loss = 0.11743930\n",
      "Iteration 84, loss = 0.11717241\n",
      "Iteration 85, loss = 0.11702419\n",
      "Iteration 86, loss = 0.11684697\n",
      "Iteration 87, loss = 0.11686804\n",
      "Iteration 88, loss = 0.11658005\n",
      "Iteration 89, loss = 0.11663791\n",
      "Iteration 90, loss = 0.11666587\n",
      "Iteration 91, loss = 0.11646640\n",
      "Iteration 92, loss = 0.11622335\n",
      "Iteration 93, loss = 0.11607766\n",
      "Iteration 94, loss = 0.11605530\n",
      "Iteration 95, loss = 0.11587639\n",
      "Iteration 96, loss = 0.11590298\n",
      "Iteration 97, loss = 0.11566005\n",
      "Iteration 98, loss = 0.11551541\n",
      "Iteration 99, loss = 0.11560448\n",
      "Iteration 100, loss = 0.11549948\n"
     ]
    },
    {
     "name": "stderr",
     "output_type": "stream",
     "text": [
      "/u/halle/beni/home_at/anaconda3/envs/python-intro/lib/python3.9/site-packages/sklearn/neural_network/_multilayer_perceptron.py:692: ConvergenceWarning: Stochastic Optimizer: Maximum iterations (100) reached and the optimization hasn't converged yet.\n",
      "  warnings.warn(\n"
     ]
    },
    {
     "name": "stdout",
     "output_type": "stream",
     "text": [
      "done!\n"
     ]
    }
   ],
   "source": [
    "#CURRENTLY THE BEST WORKING MODEL\n",
    "classifier = MLPClassifier(activation='relu', solver='adam', max_iter=100, \n",
    "                           early_stopping=False, verbose=True, hidden_layer_sizes = (512, 380, 156, 49))\n",
    "classifier.fit(X_train, y_train)\n",
    "\n",
    "from joblib import dump\n",
    "dump(classifier, 'saved_notebook_model.joblib')\n",
    "print(\"done!\")\n"
   ]
  },
  {
   "cell_type": "code",
   "execution_count": 4,
   "id": "0bcd978e",
   "metadata": {
    "scrolled": true
   },
   "outputs": [
    {
     "ename": "MemoryError",
     "evalue": "Unable to allocate 63.6 GiB for an array with shape (8332211, 1024) and data type float64",
     "output_type": "error",
     "traceback": [
      "\u001b[0;31m---------------------------------------------------------------------------\u001b[0m",
      "\u001b[0;31mMemoryError\u001b[0m                               Traceback (most recent call last)",
      "\u001b[0;32m/tmp/ipykernel_7188/2570168515.py\u001b[0m in \u001b[0;36m<module>\u001b[0;34m\u001b[0m\n\u001b[1;32m      3\u001b[0m     \u001b[0mearly_stopping\u001b[0m\u001b[0;34m=\u001b[0m\u001b[0;32mFalse\u001b[0m\u001b[0;34m,\u001b[0m \u001b[0mverbose\u001b[0m\u001b[0;34m=\u001b[0m\u001b[0;32mTrue\u001b[0m\u001b[0;34m,\u001b[0m\u001b[0;34m\u001b[0m\u001b[0;34m\u001b[0m\u001b[0m\n\u001b[1;32m      4\u001b[0m     hidden_layer_sizes = (500, 100, 70, 70, 70), learning_rate_init=0.0001)\n\u001b[0;32m----> 5\u001b[0;31m \u001b[0mclassifier2\u001b[0m\u001b[0;34m.\u001b[0m\u001b[0mfit\u001b[0m\u001b[0;34m(\u001b[0m\u001b[0mX_train\u001b[0m\u001b[0;34m,\u001b[0m \u001b[0my_train\u001b[0m\u001b[0;34m)\u001b[0m\u001b[0;34m\u001b[0m\u001b[0;34m\u001b[0m\u001b[0m\n\u001b[0m\u001b[1;32m      6\u001b[0m \u001b[0;34m\u001b[0m\u001b[0m\n\u001b[1;32m      7\u001b[0m \u001b[0;31m#from joblib import dump\u001b[0m\u001b[0;34m\u001b[0m\u001b[0;34m\u001b[0m\u001b[0m\n",
      "\u001b[0;32m~/anaconda3/envs/python-intro/lib/python3.9/site-packages/sklearn/neural_network/_multilayer_perceptron.py\u001b[0m in \u001b[0;36mfit\u001b[0;34m(self, X, y)\u001b[0m\n\u001b[1;32m    750\u001b[0m             \u001b[0mReturns\u001b[0m \u001b[0ma\u001b[0m \u001b[0mtrained\u001b[0m \u001b[0mMLP\u001b[0m \u001b[0mmodel\u001b[0m\u001b[0;34m.\u001b[0m\u001b[0;34m\u001b[0m\u001b[0;34m\u001b[0m\u001b[0m\n\u001b[1;32m    751\u001b[0m         \"\"\"\n\u001b[0;32m--> 752\u001b[0;31m         \u001b[0;32mreturn\u001b[0m \u001b[0mself\u001b[0m\u001b[0;34m.\u001b[0m\u001b[0m_fit\u001b[0m\u001b[0;34m(\u001b[0m\u001b[0mX\u001b[0m\u001b[0;34m,\u001b[0m \u001b[0my\u001b[0m\u001b[0;34m,\u001b[0m \u001b[0mincremental\u001b[0m\u001b[0;34m=\u001b[0m\u001b[0;32mFalse\u001b[0m\u001b[0;34m)\u001b[0m\u001b[0;34m\u001b[0m\u001b[0;34m\u001b[0m\u001b[0m\n\u001b[0m\u001b[1;32m    753\u001b[0m \u001b[0;34m\u001b[0m\u001b[0m\n\u001b[1;32m    754\u001b[0m     \u001b[0;32mdef\u001b[0m \u001b[0m_check_solver\u001b[0m\u001b[0;34m(\u001b[0m\u001b[0mself\u001b[0m\u001b[0;34m)\u001b[0m\u001b[0;34m:\u001b[0m\u001b[0;34m\u001b[0m\u001b[0;34m\u001b[0m\u001b[0m\n",
      "\u001b[0;32m~/anaconda3/envs/python-intro/lib/python3.9/site-packages/sklearn/neural_network/_multilayer_perceptron.py\u001b[0m in \u001b[0;36m_fit\u001b[0;34m(self, X, y, incremental)\u001b[0m\n\u001b[1;32m    391\u001b[0m         )\n\u001b[1;32m    392\u001b[0m \u001b[0;34m\u001b[0m\u001b[0m\n\u001b[0;32m--> 393\u001b[0;31m         \u001b[0mX\u001b[0m\u001b[0;34m,\u001b[0m \u001b[0my\u001b[0m \u001b[0;34m=\u001b[0m \u001b[0mself\u001b[0m\u001b[0;34m.\u001b[0m\u001b[0m_validate_input\u001b[0m\u001b[0;34m(\u001b[0m\u001b[0mX\u001b[0m\u001b[0;34m,\u001b[0m \u001b[0my\u001b[0m\u001b[0;34m,\u001b[0m \u001b[0mincremental\u001b[0m\u001b[0;34m,\u001b[0m \u001b[0mreset\u001b[0m\u001b[0;34m=\u001b[0m\u001b[0mfirst_pass\u001b[0m\u001b[0;34m)\u001b[0m\u001b[0;34m\u001b[0m\u001b[0;34m\u001b[0m\u001b[0m\n\u001b[0m\u001b[1;32m    394\u001b[0m \u001b[0;34m\u001b[0m\u001b[0m\n\u001b[1;32m    395\u001b[0m         \u001b[0mn_samples\u001b[0m\u001b[0;34m,\u001b[0m \u001b[0mn_features\u001b[0m \u001b[0;34m=\u001b[0m \u001b[0mX\u001b[0m\u001b[0;34m.\u001b[0m\u001b[0mshape\u001b[0m\u001b[0;34m\u001b[0m\u001b[0;34m\u001b[0m\u001b[0m\n",
      "\u001b[0;32m~/anaconda3/envs/python-intro/lib/python3.9/site-packages/sklearn/neural_network/_multilayer_perceptron.py\u001b[0m in \u001b[0;36m_validate_input\u001b[0;34m(self, X, y, incremental, reset)\u001b[0m\n\u001b[1;32m   1098\u001b[0m \u001b[0;34m\u001b[0m\u001b[0m\n\u001b[1;32m   1099\u001b[0m     \u001b[0;32mdef\u001b[0m \u001b[0m_validate_input\u001b[0m\u001b[0;34m(\u001b[0m\u001b[0mself\u001b[0m\u001b[0;34m,\u001b[0m \u001b[0mX\u001b[0m\u001b[0;34m,\u001b[0m \u001b[0my\u001b[0m\u001b[0;34m,\u001b[0m \u001b[0mincremental\u001b[0m\u001b[0;34m,\u001b[0m \u001b[0mreset\u001b[0m\u001b[0;34m)\u001b[0m\u001b[0;34m:\u001b[0m\u001b[0;34m\u001b[0m\u001b[0;34m\u001b[0m\u001b[0m\n\u001b[0;32m-> 1100\u001b[0;31m         X, y = self._validate_data(\n\u001b[0m\u001b[1;32m   1101\u001b[0m             \u001b[0mX\u001b[0m\u001b[0;34m,\u001b[0m\u001b[0;34m\u001b[0m\u001b[0;34m\u001b[0m\u001b[0m\n\u001b[1;32m   1102\u001b[0m             \u001b[0my\u001b[0m\u001b[0;34m,\u001b[0m\u001b[0;34m\u001b[0m\u001b[0;34m\u001b[0m\u001b[0m\n",
      "\u001b[0;32m~/anaconda3/envs/python-intro/lib/python3.9/site-packages/sklearn/base.py\u001b[0m in \u001b[0;36m_validate_data\u001b[0;34m(self, X, y, reset, validate_separately, **check_params)\u001b[0m\n\u001b[1;32m    570\u001b[0m                 \u001b[0my\u001b[0m \u001b[0;34m=\u001b[0m \u001b[0mcheck_array\u001b[0m\u001b[0;34m(\u001b[0m\u001b[0my\u001b[0m\u001b[0;34m,\u001b[0m \u001b[0;34m**\u001b[0m\u001b[0mcheck_y_params\u001b[0m\u001b[0;34m)\u001b[0m\u001b[0;34m\u001b[0m\u001b[0;34m\u001b[0m\u001b[0m\n\u001b[1;32m    571\u001b[0m             \u001b[0;32melse\u001b[0m\u001b[0;34m:\u001b[0m\u001b[0;34m\u001b[0m\u001b[0;34m\u001b[0m\u001b[0m\n\u001b[0;32m--> 572\u001b[0;31m                 \u001b[0mX\u001b[0m\u001b[0;34m,\u001b[0m \u001b[0my\u001b[0m \u001b[0;34m=\u001b[0m \u001b[0mcheck_X_y\u001b[0m\u001b[0;34m(\u001b[0m\u001b[0mX\u001b[0m\u001b[0;34m,\u001b[0m \u001b[0my\u001b[0m\u001b[0;34m,\u001b[0m \u001b[0;34m**\u001b[0m\u001b[0mcheck_params\u001b[0m\u001b[0;34m)\u001b[0m\u001b[0;34m\u001b[0m\u001b[0;34m\u001b[0m\u001b[0m\n\u001b[0m\u001b[1;32m    573\u001b[0m             \u001b[0mout\u001b[0m \u001b[0;34m=\u001b[0m \u001b[0mX\u001b[0m\u001b[0;34m,\u001b[0m \u001b[0my\u001b[0m\u001b[0;34m\u001b[0m\u001b[0;34m\u001b[0m\u001b[0m\n\u001b[1;32m    574\u001b[0m \u001b[0;34m\u001b[0m\u001b[0m\n",
      "\u001b[0;32m~/anaconda3/envs/python-intro/lib/python3.9/site-packages/sklearn/utils/validation.py\u001b[0m in \u001b[0;36mcheck_X_y\u001b[0;34m(X, y, accept_sparse, accept_large_sparse, dtype, order, copy, force_all_finite, ensure_2d, allow_nd, multi_output, ensure_min_samples, ensure_min_features, y_numeric, estimator)\u001b[0m\n\u001b[1;32m    954\u001b[0m         \u001b[0;32mraise\u001b[0m \u001b[0mValueError\u001b[0m\u001b[0;34m(\u001b[0m\u001b[0;34m\"y cannot be None\"\u001b[0m\u001b[0;34m)\u001b[0m\u001b[0;34m\u001b[0m\u001b[0;34m\u001b[0m\u001b[0m\n\u001b[1;32m    955\u001b[0m \u001b[0;34m\u001b[0m\u001b[0m\n\u001b[0;32m--> 956\u001b[0;31m     X = check_array(\n\u001b[0m\u001b[1;32m    957\u001b[0m         \u001b[0mX\u001b[0m\u001b[0;34m,\u001b[0m\u001b[0;34m\u001b[0m\u001b[0;34m\u001b[0m\u001b[0m\n\u001b[1;32m    958\u001b[0m         \u001b[0maccept_sparse\u001b[0m\u001b[0;34m=\u001b[0m\u001b[0maccept_sparse\u001b[0m\u001b[0;34m,\u001b[0m\u001b[0;34m\u001b[0m\u001b[0;34m\u001b[0m\u001b[0m\n",
      "\u001b[0;32m~/anaconda3/envs/python-intro/lib/python3.9/site-packages/sklearn/utils/validation.py\u001b[0m in \u001b[0;36mcheck_array\u001b[0;34m(array, accept_sparse, accept_large_sparse, dtype, order, copy, force_all_finite, ensure_2d, allow_nd, ensure_min_samples, ensure_min_features, estimator)\u001b[0m\n\u001b[1;32m    736\u001b[0m                     \u001b[0marray\u001b[0m \u001b[0;34m=\u001b[0m \u001b[0marray\u001b[0m\u001b[0;34m.\u001b[0m\u001b[0mastype\u001b[0m\u001b[0;34m(\u001b[0m\u001b[0mdtype\u001b[0m\u001b[0;34m,\u001b[0m \u001b[0mcasting\u001b[0m\u001b[0;34m=\u001b[0m\u001b[0;34m\"unsafe\"\u001b[0m\u001b[0;34m,\u001b[0m \u001b[0mcopy\u001b[0m\u001b[0;34m=\u001b[0m\u001b[0;32mFalse\u001b[0m\u001b[0;34m)\u001b[0m\u001b[0;34m\u001b[0m\u001b[0;34m\u001b[0m\u001b[0m\n\u001b[1;32m    737\u001b[0m                 \u001b[0;32melse\u001b[0m\u001b[0;34m:\u001b[0m\u001b[0;34m\u001b[0m\u001b[0;34m\u001b[0m\u001b[0m\n\u001b[0;32m--> 738\u001b[0;31m                     \u001b[0marray\u001b[0m \u001b[0;34m=\u001b[0m \u001b[0mnp\u001b[0m\u001b[0;34m.\u001b[0m\u001b[0masarray\u001b[0m\u001b[0;34m(\u001b[0m\u001b[0marray\u001b[0m\u001b[0;34m,\u001b[0m \u001b[0morder\u001b[0m\u001b[0;34m=\u001b[0m\u001b[0morder\u001b[0m\u001b[0;34m,\u001b[0m \u001b[0mdtype\u001b[0m\u001b[0;34m=\u001b[0m\u001b[0mdtype\u001b[0m\u001b[0;34m)\u001b[0m\u001b[0;34m\u001b[0m\u001b[0;34m\u001b[0m\u001b[0m\n\u001b[0m\u001b[1;32m    739\u001b[0m             \u001b[0;32mexcept\u001b[0m \u001b[0mComplexWarning\u001b[0m \u001b[0;32mas\u001b[0m \u001b[0mcomplex_warning\u001b[0m\u001b[0;34m:\u001b[0m\u001b[0;34m\u001b[0m\u001b[0;34m\u001b[0m\u001b[0m\n\u001b[1;32m    740\u001b[0m                 raise ValueError(\n",
      "\u001b[0;32m~/anaconda3/envs/python-intro/lib/python3.9/site-packages/numpy/core/_asarray.py\u001b[0m in \u001b[0;36masarray\u001b[0;34m(a, dtype, order, like)\u001b[0m\n\u001b[1;32m    100\u001b[0m         \u001b[0;32mreturn\u001b[0m \u001b[0m_asarray_with_like\u001b[0m\u001b[0;34m(\u001b[0m\u001b[0ma\u001b[0m\u001b[0;34m,\u001b[0m \u001b[0mdtype\u001b[0m\u001b[0;34m=\u001b[0m\u001b[0mdtype\u001b[0m\u001b[0;34m,\u001b[0m \u001b[0morder\u001b[0m\u001b[0;34m=\u001b[0m\u001b[0morder\u001b[0m\u001b[0;34m,\u001b[0m \u001b[0mlike\u001b[0m\u001b[0;34m=\u001b[0m\u001b[0mlike\u001b[0m\u001b[0;34m)\u001b[0m\u001b[0;34m\u001b[0m\u001b[0;34m\u001b[0m\u001b[0m\n\u001b[1;32m    101\u001b[0m \u001b[0;34m\u001b[0m\u001b[0m\n\u001b[0;32m--> 102\u001b[0;31m     \u001b[0;32mreturn\u001b[0m \u001b[0marray\u001b[0m\u001b[0;34m(\u001b[0m\u001b[0ma\u001b[0m\u001b[0;34m,\u001b[0m \u001b[0mdtype\u001b[0m\u001b[0;34m,\u001b[0m \u001b[0mcopy\u001b[0m\u001b[0;34m=\u001b[0m\u001b[0;32mFalse\u001b[0m\u001b[0;34m,\u001b[0m \u001b[0morder\u001b[0m\u001b[0;34m=\u001b[0m\u001b[0morder\u001b[0m\u001b[0;34m)\u001b[0m\u001b[0;34m\u001b[0m\u001b[0;34m\u001b[0m\u001b[0m\n\u001b[0m\u001b[1;32m    103\u001b[0m \u001b[0;34m\u001b[0m\u001b[0m\n\u001b[1;32m    104\u001b[0m \u001b[0;34m\u001b[0m\u001b[0m\n",
      "\u001b[0;31mMemoryError\u001b[0m: Unable to allocate 63.6 GiB for an array with shape (8332211, 1024) and data type float64"
     ]
    }
   ],
   "source": [
    "#test2\n",
    "classifier2 = MLPClassifier(\n",
    "    activation='relu', solver='adam', max_iter=100, \n",
    "    early_stopping=False, verbose=True, \n",
    "    hidden_layer_sizes = (500, 100, 70, 70, 70), learning_rate_init=0.0001)\n",
    "classifier2.fit(X_train, y_train)\n",
    "\n",
    "from joblib import dump\n",
    "dump(classifier2, 'saved_notebook_model2.joblib')\n",
    "print(\"done!\")\n",
    "\n",
    "#this worked and trained a couple of weeks ago, but now creates the memory error as well:"
   ]
  },
  {
   "cell_type": "code",
   "execution_count": 13,
   "id": "6b6f474e",
   "metadata": {
    "scrolled": true
   },
   "outputs": [
    {
     "name": "stdout",
     "output_type": "stream",
     "text": [
      "Iteration 1, loss = 0.69833116\n",
      "Iteration 2, loss = 0.42233595\n",
      "Iteration 3, loss = 0.32532706\n",
      "Iteration 4, loss = 0.26981225\n",
      "Iteration 5, loss = 0.23299027\n",
      "Iteration 6, loss = 0.20654235\n",
      "Iteration 7, loss = 0.18644485\n",
      "Iteration 8, loss = 0.17061903\n",
      "Iteration 9, loss = 0.15780006\n",
      "Iteration 10, loss = 0.14696579\n",
      "Iteration 11, loss = 0.13803514\n",
      "Iteration 12, loss = 0.13018071\n",
      "Iteration 13, loss = 0.12327766\n",
      "Iteration 14, loss = 0.11725447\n",
      "Iteration 15, loss = 0.11203071\n",
      "Iteration 16, loss = 0.10698456\n",
      "Iteration 17, loss = 0.10271417\n",
      "Iteration 18, loss = 0.09875596\n",
      "Iteration 19, loss = 0.09499288\n",
      "Iteration 20, loss = 0.09176877\n",
      "Iteration 21, loss = 0.08882505\n",
      "Iteration 22, loss = 0.08602538\n",
      "Iteration 23, loss = 0.08334683\n",
      "Iteration 24, loss = 0.08084721\n",
      "Iteration 25, loss = 0.07861699\n",
      "Iteration 26, loss = 0.07639708\n",
      "Iteration 27, loss = 0.07447834\n",
      "Iteration 28, loss = 0.07260542\n",
      "Iteration 29, loss = 0.07092770\n",
      "Iteration 30, loss = 0.06924224\n",
      "Iteration 31, loss = 0.06753085\n",
      "Iteration 32, loss = 0.06616360\n",
      "Iteration 33, loss = 0.06482939\n",
      "Iteration 34, loss = 0.06326856\n",
      "Iteration 35, loss = 0.06207293\n",
      "Iteration 36, loss = 0.06086619\n",
      "Iteration 37, loss = 0.05973048\n",
      "Iteration 38, loss = 0.05858802\n",
      "Iteration 39, loss = 0.05749575\n",
      "Iteration 40, loss = 0.05643038\n",
      "Iteration 41, loss = 0.05558642\n",
      "Iteration 42, loss = 0.05474630\n",
      "Iteration 43, loss = 0.05391013\n",
      "Iteration 44, loss = 0.05292150\n",
      "Iteration 45, loss = 0.05208130\n",
      "Iteration 46, loss = 0.05118232\n",
      "Iteration 47, loss = 0.05070228\n",
      "Iteration 48, loss = 0.04977143\n",
      "Iteration 49, loss = 0.04922388\n",
      "Iteration 50, loss = 0.04857641\n",
      "Iteration 51, loss = 0.04793028\n",
      "Iteration 52, loss = 0.04729050\n",
      "Iteration 53, loss = 0.04661343\n",
      "Iteration 54, loss = 0.04616401\n",
      "Iteration 55, loss = 0.04547868\n",
      "Iteration 56, loss = 0.04506510\n",
      "Iteration 57, loss = 0.04451216\n",
      "Iteration 58, loss = 0.04393174\n",
      "Iteration 59, loss = 0.04348172\n",
      "Iteration 60, loss = 0.04305605\n",
      "Iteration 61, loss = 0.04256465\n",
      "Iteration 62, loss = 0.04224759\n",
      "Iteration 63, loss = 0.04182280\n",
      "Iteration 64, loss = 0.04129142\n",
      "Iteration 65, loss = 0.04106487\n",
      "Iteration 66, loss = 0.04054635\n",
      "Iteration 67, loss = 0.04025720\n",
      "Iteration 68, loss = 0.03989778\n",
      "Iteration 69, loss = 0.03957916\n",
      "Iteration 70, loss = 0.03925732\n",
      "Iteration 71, loss = 0.03890252\n",
      "Iteration 72, loss = 0.03856413\n",
      "Iteration 73, loss = 0.03830302\n",
      "Iteration 74, loss = 0.03796576\n",
      "Iteration 75, loss = 0.03758113\n",
      "Iteration 76, loss = 0.03736738\n",
      "Iteration 77, loss = 0.03717509\n",
      "Iteration 78, loss = 0.03694540\n",
      "Iteration 79, loss = 0.03659552\n",
      "Iteration 80, loss = 0.03637751\n",
      "Iteration 81, loss = 0.03608855\n",
      "Iteration 82, loss = 0.03591220\n",
      "Iteration 83, loss = 0.03571074\n",
      "Iteration 84, loss = 0.03540916\n",
      "Iteration 85, loss = 0.03525111\n",
      "Iteration 86, loss = 0.03501820\n",
      "Iteration 87, loss = 0.03483890\n",
      "Iteration 88, loss = 0.03465992\n",
      "Iteration 89, loss = 0.03441488\n",
      "Iteration 90, loss = 0.03431207\n",
      "Iteration 91, loss = 0.03411164\n",
      "Iteration 92, loss = 0.03384354\n",
      "Iteration 93, loss = 0.03370892\n",
      "Iteration 94, loss = 0.03356076\n",
      "Iteration 95, loss = 0.03332076\n",
      "Iteration 96, loss = 0.03325143\n",
      "Iteration 97, loss = 0.03303329\n",
      "Iteration 98, loss = 0.03290034\n",
      "Iteration 99, loss = 0.03267936\n",
      "Iteration 100, loss = 0.03270120\n",
      "Iteration 101, loss = 0.03238358\n",
      "Iteration 102, loss = 0.03236111\n",
      "Iteration 103, loss = 0.03224286\n",
      "Iteration 104, loss = 0.03213911\n",
      "Iteration 105, loss = 0.03202469\n",
      "Iteration 106, loss = 0.03178157\n",
      "Iteration 107, loss = 0.03176904\n",
      "Iteration 108, loss = 0.03155343\n",
      "Iteration 109, loss = 0.03144605\n",
      "Iteration 110, loss = 0.03137727\n"
     ]
    },
    {
     "name": "stderr",
     "output_type": "stream",
     "text": [
      "/u/halle/beni/home_at/anaconda3/envs/python-intro/lib/python3.9/site-packages/sklearn/neural_network/_multilayer_perceptron.py:692: ConvergenceWarning: Stochastic Optimizer: Maximum iterations (110) reached and the optimization hasn't converged yet.\n",
      "  warnings.warn(\n"
     ]
    },
    {
     "name": "stdout",
     "output_type": "stream",
     "text": [
      "done!\n"
     ]
    }
   ],
   "source": [
    "#try 3....\n",
    "classifier3 = MLPClassifier(\n",
    "    activation='relu', solver='adam', max_iter=110, \n",
    "    early_stopping=False, verbose=True, \n",
    "    hidden_layer_sizes = (512, 380, 156, 49), learning_rate_init=0.0001)\n",
    "classifier3.fit(X_train, y_train)\n",
    "\n",
    "from joblib import dump\n",
    "dump(classifier3, 'saved_notebook_model3.joblib')\n",
    "print(\"done!\")"
   ]
  },
  {
   "cell_type": "code",
   "execution_count": 8,
   "id": "e3a0e4b4",
   "metadata": {},
   "outputs": [
    {
     "data": {
      "text/plain": [
       "['saved_model_try2.joblib']"
      ]
     },
     "execution_count": 8,
     "metadata": {},
     "output_type": "execute_result"
    }
   ],
   "source": [
    "dump(classifier2, 'saved_model_try2.joblib')"
   ]
  },
  {
   "cell_type": "code",
   "execution_count": 5,
   "id": "6f11fe70",
   "metadata": {},
   "outputs": [
    {
     "ename": "MemoryError",
     "evalue": "Unable to allocate 63.6 GiB for an array with shape (8332211, 1024) and data type float64",
     "output_type": "error",
     "traceback": [
      "\u001b[0;31m---------------------------------------------------------------------------\u001b[0m",
      "\u001b[0;31mMemoryError\u001b[0m                               Traceback (most recent call last)",
      "\u001b[0;32m/tmp/ipykernel_344036/54094312.py\u001b[0m in \u001b[0;36m<module>\u001b[0;34m\u001b[0m\n\u001b[1;32m      3\u001b[0m                            \u001b[0mearly_stopping\u001b[0m\u001b[0;34m=\u001b[0m\u001b[0;32mTrue\u001b[0m\u001b[0;34m,\u001b[0m \u001b[0mn_iter_no_change\u001b[0m \u001b[0;34m=\u001b[0m \u001b[0;36m5\u001b[0m\u001b[0;34m,\u001b[0m \u001b[0mverbose\u001b[0m\u001b[0;34m=\u001b[0m\u001b[0;32mTrue\u001b[0m\u001b[0;34m,\u001b[0m\u001b[0;34m\u001b[0m\u001b[0;34m\u001b[0m\u001b[0m\n\u001b[1;32m      4\u001b[0m                             hidden_layer_sizes = (512, 200, 200, 49))\n\u001b[0;32m----> 5\u001b[0;31m \u001b[0mclassifier4\u001b[0m\u001b[0;34m.\u001b[0m\u001b[0mfit\u001b[0m\u001b[0;34m(\u001b[0m\u001b[0mX_train\u001b[0m\u001b[0;34m,\u001b[0m \u001b[0my_train\u001b[0m\u001b[0;34m)\u001b[0m\u001b[0;34m\u001b[0m\u001b[0;34m\u001b[0m\u001b[0m\n\u001b[0m\u001b[1;32m      6\u001b[0m \u001b[0;34m\u001b[0m\u001b[0m\n\u001b[1;32m      7\u001b[0m \u001b[0;32mfrom\u001b[0m \u001b[0mjoblib\u001b[0m \u001b[0;32mimport\u001b[0m \u001b[0mdump\u001b[0m\u001b[0;34m\u001b[0m\u001b[0;34m\u001b[0m\u001b[0m\n",
      "\u001b[0;32m~/anaconda3/envs/python-intro/lib/python3.9/site-packages/sklearn/neural_network/_multilayer_perceptron.py\u001b[0m in \u001b[0;36mfit\u001b[0;34m(self, X, y)\u001b[0m\n\u001b[1;32m    671\u001b[0m         \u001b[0mself\u001b[0m \u001b[0;34m:\u001b[0m \u001b[0mreturns\u001b[0m \u001b[0ma\u001b[0m \u001b[0mtrained\u001b[0m \u001b[0mMLP\u001b[0m \u001b[0mmodel\u001b[0m\u001b[0;34m.\u001b[0m\u001b[0;34m\u001b[0m\u001b[0;34m\u001b[0m\u001b[0m\n\u001b[1;32m    672\u001b[0m         \"\"\"\n\u001b[0;32m--> 673\u001b[0;31m         \u001b[0;32mreturn\u001b[0m \u001b[0mself\u001b[0m\u001b[0;34m.\u001b[0m\u001b[0m_fit\u001b[0m\u001b[0;34m(\u001b[0m\u001b[0mX\u001b[0m\u001b[0;34m,\u001b[0m \u001b[0my\u001b[0m\u001b[0;34m,\u001b[0m \u001b[0mincremental\u001b[0m\u001b[0;34m=\u001b[0m\u001b[0;32mFalse\u001b[0m\u001b[0;34m)\u001b[0m\u001b[0;34m\u001b[0m\u001b[0;34m\u001b[0m\u001b[0m\n\u001b[0m\u001b[1;32m    674\u001b[0m \u001b[0;34m\u001b[0m\u001b[0m\n\u001b[1;32m    675\u001b[0m     \u001b[0;34m@\u001b[0m\u001b[0mproperty\u001b[0m\u001b[0;34m\u001b[0m\u001b[0;34m\u001b[0m\u001b[0m\n",
      "\u001b[0;32m~/anaconda3/envs/python-intro/lib/python3.9/site-packages/sklearn/neural_network/_multilayer_perceptron.py\u001b[0m in \u001b[0;36m_fit\u001b[0;34m(self, X, y, incremental)\u001b[0m\n\u001b[1;32m    362\u001b[0m                       (not self.warm_start and not incremental))\n\u001b[1;32m    363\u001b[0m \u001b[0;34m\u001b[0m\u001b[0m\n\u001b[0;32m--> 364\u001b[0;31m         \u001b[0mX\u001b[0m\u001b[0;34m,\u001b[0m \u001b[0my\u001b[0m \u001b[0;34m=\u001b[0m \u001b[0mself\u001b[0m\u001b[0;34m.\u001b[0m\u001b[0m_validate_input\u001b[0m\u001b[0;34m(\u001b[0m\u001b[0mX\u001b[0m\u001b[0;34m,\u001b[0m \u001b[0my\u001b[0m\u001b[0;34m,\u001b[0m \u001b[0mincremental\u001b[0m\u001b[0;34m,\u001b[0m \u001b[0mreset\u001b[0m\u001b[0;34m=\u001b[0m\u001b[0mfirst_pass\u001b[0m\u001b[0;34m)\u001b[0m\u001b[0;34m\u001b[0m\u001b[0;34m\u001b[0m\u001b[0m\n\u001b[0m\u001b[1;32m    365\u001b[0m \u001b[0;34m\u001b[0m\u001b[0m\n\u001b[1;32m    366\u001b[0m         \u001b[0mn_samples\u001b[0m\u001b[0;34m,\u001b[0m \u001b[0mn_features\u001b[0m \u001b[0;34m=\u001b[0m \u001b[0mX\u001b[0m\u001b[0;34m.\u001b[0m\u001b[0mshape\u001b[0m\u001b[0;34m\u001b[0m\u001b[0;34m\u001b[0m\u001b[0m\n",
      "\u001b[0;32m~/anaconda3/envs/python-intro/lib/python3.9/site-packages/sklearn/neural_network/_multilayer_perceptron.py\u001b[0m in \u001b[0;36m_validate_input\u001b[0;34m(self, X, y, incremental, reset)\u001b[0m\n\u001b[1;32m    969\u001b[0m \u001b[0;34m\u001b[0m\u001b[0m\n\u001b[1;32m    970\u001b[0m     \u001b[0;32mdef\u001b[0m \u001b[0m_validate_input\u001b[0m\u001b[0;34m(\u001b[0m\u001b[0mself\u001b[0m\u001b[0;34m,\u001b[0m \u001b[0mX\u001b[0m\u001b[0;34m,\u001b[0m \u001b[0my\u001b[0m\u001b[0;34m,\u001b[0m \u001b[0mincremental\u001b[0m\u001b[0;34m,\u001b[0m \u001b[0mreset\u001b[0m\u001b[0;34m)\u001b[0m\u001b[0;34m:\u001b[0m\u001b[0;34m\u001b[0m\u001b[0;34m\u001b[0m\u001b[0m\n\u001b[0;32m--> 971\u001b[0;31m         X, y = self._validate_data(X, y, accept_sparse=['csr', 'csc'],\n\u001b[0m\u001b[1;32m    972\u001b[0m                                    \u001b[0mmulti_output\u001b[0m\u001b[0;34m=\u001b[0m\u001b[0;32mTrue\u001b[0m\u001b[0;34m,\u001b[0m\u001b[0;34m\u001b[0m\u001b[0;34m\u001b[0m\u001b[0m\n\u001b[1;32m    973\u001b[0m                                    \u001b[0mdtype\u001b[0m\u001b[0;34m=\u001b[0m\u001b[0;34m(\u001b[0m\u001b[0mnp\u001b[0m\u001b[0;34m.\u001b[0m\u001b[0mfloat64\u001b[0m\u001b[0;34m,\u001b[0m \u001b[0mnp\u001b[0m\u001b[0;34m.\u001b[0m\u001b[0mfloat32\u001b[0m\u001b[0;34m)\u001b[0m\u001b[0;34m,\u001b[0m\u001b[0;34m\u001b[0m\u001b[0;34m\u001b[0m\u001b[0m\n",
      "\u001b[0;32m~/anaconda3/envs/python-intro/lib/python3.9/site-packages/sklearn/base.py\u001b[0m in \u001b[0;36m_validate_data\u001b[0;34m(self, X, y, reset, validate_separately, **check_params)\u001b[0m\n\u001b[1;32m    431\u001b[0m                 \u001b[0my\u001b[0m \u001b[0;34m=\u001b[0m \u001b[0mcheck_array\u001b[0m\u001b[0;34m(\u001b[0m\u001b[0my\u001b[0m\u001b[0;34m,\u001b[0m \u001b[0;34m**\u001b[0m\u001b[0mcheck_y_params\u001b[0m\u001b[0;34m)\u001b[0m\u001b[0;34m\u001b[0m\u001b[0;34m\u001b[0m\u001b[0m\n\u001b[1;32m    432\u001b[0m             \u001b[0;32melse\u001b[0m\u001b[0;34m:\u001b[0m\u001b[0;34m\u001b[0m\u001b[0;34m\u001b[0m\u001b[0m\n\u001b[0;32m--> 433\u001b[0;31m                 \u001b[0mX\u001b[0m\u001b[0;34m,\u001b[0m \u001b[0my\u001b[0m \u001b[0;34m=\u001b[0m \u001b[0mcheck_X_y\u001b[0m\u001b[0;34m(\u001b[0m\u001b[0mX\u001b[0m\u001b[0;34m,\u001b[0m \u001b[0my\u001b[0m\u001b[0;34m,\u001b[0m \u001b[0;34m**\u001b[0m\u001b[0mcheck_params\u001b[0m\u001b[0;34m)\u001b[0m\u001b[0;34m\u001b[0m\u001b[0;34m\u001b[0m\u001b[0m\n\u001b[0m\u001b[1;32m    434\u001b[0m             \u001b[0mout\u001b[0m \u001b[0;34m=\u001b[0m \u001b[0mX\u001b[0m\u001b[0;34m,\u001b[0m \u001b[0my\u001b[0m\u001b[0;34m\u001b[0m\u001b[0;34m\u001b[0m\u001b[0m\n\u001b[1;32m    435\u001b[0m \u001b[0;34m\u001b[0m\u001b[0m\n",
      "\u001b[0;32m~/anaconda3/envs/python-intro/lib/python3.9/site-packages/sklearn/utils/validation.py\u001b[0m in \u001b[0;36minner_f\u001b[0;34m(*args, **kwargs)\u001b[0m\n\u001b[1;32m     61\u001b[0m             \u001b[0mextra_args\u001b[0m \u001b[0;34m=\u001b[0m \u001b[0mlen\u001b[0m\u001b[0;34m(\u001b[0m\u001b[0margs\u001b[0m\u001b[0;34m)\u001b[0m \u001b[0;34m-\u001b[0m \u001b[0mlen\u001b[0m\u001b[0;34m(\u001b[0m\u001b[0mall_args\u001b[0m\u001b[0;34m)\u001b[0m\u001b[0;34m\u001b[0m\u001b[0;34m\u001b[0m\u001b[0m\n\u001b[1;32m     62\u001b[0m             \u001b[0;32mif\u001b[0m \u001b[0mextra_args\u001b[0m \u001b[0;34m<=\u001b[0m \u001b[0;36m0\u001b[0m\u001b[0;34m:\u001b[0m\u001b[0;34m\u001b[0m\u001b[0;34m\u001b[0m\u001b[0m\n\u001b[0;32m---> 63\u001b[0;31m                 \u001b[0;32mreturn\u001b[0m \u001b[0mf\u001b[0m\u001b[0;34m(\u001b[0m\u001b[0;34m*\u001b[0m\u001b[0margs\u001b[0m\u001b[0;34m,\u001b[0m \u001b[0;34m**\u001b[0m\u001b[0mkwargs\u001b[0m\u001b[0;34m)\u001b[0m\u001b[0;34m\u001b[0m\u001b[0;34m\u001b[0m\u001b[0m\n\u001b[0m\u001b[1;32m     64\u001b[0m \u001b[0;34m\u001b[0m\u001b[0m\n\u001b[1;32m     65\u001b[0m             \u001b[0;31m# extra_args > 0\u001b[0m\u001b[0;34m\u001b[0m\u001b[0;34m\u001b[0m\u001b[0m\n",
      "\u001b[0;32m~/anaconda3/envs/python-intro/lib/python3.9/site-packages/sklearn/utils/validation.py\u001b[0m in \u001b[0;36mcheck_X_y\u001b[0;34m(X, y, accept_sparse, accept_large_sparse, dtype, order, copy, force_all_finite, ensure_2d, allow_nd, multi_output, ensure_min_samples, ensure_min_features, y_numeric, estimator)\u001b[0m\n\u001b[1;32m    869\u001b[0m         \u001b[0;32mraise\u001b[0m \u001b[0mValueError\u001b[0m\u001b[0;34m(\u001b[0m\u001b[0;34m\"y cannot be None\"\u001b[0m\u001b[0;34m)\u001b[0m\u001b[0;34m\u001b[0m\u001b[0;34m\u001b[0m\u001b[0m\n\u001b[1;32m    870\u001b[0m \u001b[0;34m\u001b[0m\u001b[0m\n\u001b[0;32m--> 871\u001b[0;31m     X = check_array(X, accept_sparse=accept_sparse,\n\u001b[0m\u001b[1;32m    872\u001b[0m                     \u001b[0maccept_large_sparse\u001b[0m\u001b[0;34m=\u001b[0m\u001b[0maccept_large_sparse\u001b[0m\u001b[0;34m,\u001b[0m\u001b[0;34m\u001b[0m\u001b[0;34m\u001b[0m\u001b[0m\n\u001b[1;32m    873\u001b[0m                     \u001b[0mdtype\u001b[0m\u001b[0;34m=\u001b[0m\u001b[0mdtype\u001b[0m\u001b[0;34m,\u001b[0m \u001b[0morder\u001b[0m\u001b[0;34m=\u001b[0m\u001b[0morder\u001b[0m\u001b[0;34m,\u001b[0m \u001b[0mcopy\u001b[0m\u001b[0;34m=\u001b[0m\u001b[0mcopy\u001b[0m\u001b[0;34m,\u001b[0m\u001b[0;34m\u001b[0m\u001b[0;34m\u001b[0m\u001b[0m\n",
      "\u001b[0;32m~/anaconda3/envs/python-intro/lib/python3.9/site-packages/sklearn/utils/validation.py\u001b[0m in \u001b[0;36minner_f\u001b[0;34m(*args, **kwargs)\u001b[0m\n\u001b[1;32m     61\u001b[0m             \u001b[0mextra_args\u001b[0m \u001b[0;34m=\u001b[0m \u001b[0mlen\u001b[0m\u001b[0;34m(\u001b[0m\u001b[0margs\u001b[0m\u001b[0;34m)\u001b[0m \u001b[0;34m-\u001b[0m \u001b[0mlen\u001b[0m\u001b[0;34m(\u001b[0m\u001b[0mall_args\u001b[0m\u001b[0;34m)\u001b[0m\u001b[0;34m\u001b[0m\u001b[0;34m\u001b[0m\u001b[0m\n\u001b[1;32m     62\u001b[0m             \u001b[0;32mif\u001b[0m \u001b[0mextra_args\u001b[0m \u001b[0;34m<=\u001b[0m \u001b[0;36m0\u001b[0m\u001b[0;34m:\u001b[0m\u001b[0;34m\u001b[0m\u001b[0;34m\u001b[0m\u001b[0m\n\u001b[0;32m---> 63\u001b[0;31m                 \u001b[0;32mreturn\u001b[0m \u001b[0mf\u001b[0m\u001b[0;34m(\u001b[0m\u001b[0;34m*\u001b[0m\u001b[0margs\u001b[0m\u001b[0;34m,\u001b[0m \u001b[0;34m**\u001b[0m\u001b[0mkwargs\u001b[0m\u001b[0;34m)\u001b[0m\u001b[0;34m\u001b[0m\u001b[0;34m\u001b[0m\u001b[0m\n\u001b[0m\u001b[1;32m     64\u001b[0m \u001b[0;34m\u001b[0m\u001b[0m\n\u001b[1;32m     65\u001b[0m             \u001b[0;31m# extra_args > 0\u001b[0m\u001b[0;34m\u001b[0m\u001b[0;34m\u001b[0m\u001b[0m\n",
      "\u001b[0;32m~/anaconda3/envs/python-intro/lib/python3.9/site-packages/sklearn/utils/validation.py\u001b[0m in \u001b[0;36mcheck_array\u001b[0;34m(array, accept_sparse, accept_large_sparse, dtype, order, copy, force_all_finite, ensure_2d, allow_nd, ensure_min_samples, ensure_min_features, estimator)\u001b[0m\n\u001b[1;32m    671\u001b[0m                     \u001b[0marray\u001b[0m \u001b[0;34m=\u001b[0m \u001b[0marray\u001b[0m\u001b[0;34m.\u001b[0m\u001b[0mastype\u001b[0m\u001b[0;34m(\u001b[0m\u001b[0mdtype\u001b[0m\u001b[0;34m,\u001b[0m \u001b[0mcasting\u001b[0m\u001b[0;34m=\u001b[0m\u001b[0;34m\"unsafe\"\u001b[0m\u001b[0;34m,\u001b[0m \u001b[0mcopy\u001b[0m\u001b[0;34m=\u001b[0m\u001b[0;32mFalse\u001b[0m\u001b[0;34m)\u001b[0m\u001b[0;34m\u001b[0m\u001b[0;34m\u001b[0m\u001b[0m\n\u001b[1;32m    672\u001b[0m                 \u001b[0;32melse\u001b[0m\u001b[0;34m:\u001b[0m\u001b[0;34m\u001b[0m\u001b[0;34m\u001b[0m\u001b[0m\n\u001b[0;32m--> 673\u001b[0;31m                     \u001b[0marray\u001b[0m \u001b[0;34m=\u001b[0m \u001b[0mnp\u001b[0m\u001b[0;34m.\u001b[0m\u001b[0masarray\u001b[0m\u001b[0;34m(\u001b[0m\u001b[0marray\u001b[0m\u001b[0;34m,\u001b[0m \u001b[0morder\u001b[0m\u001b[0;34m=\u001b[0m\u001b[0morder\u001b[0m\u001b[0;34m,\u001b[0m \u001b[0mdtype\u001b[0m\u001b[0;34m=\u001b[0m\u001b[0mdtype\u001b[0m\u001b[0;34m)\u001b[0m\u001b[0;34m\u001b[0m\u001b[0;34m\u001b[0m\u001b[0m\n\u001b[0m\u001b[1;32m    674\u001b[0m             \u001b[0;32mexcept\u001b[0m \u001b[0mComplexWarning\u001b[0m \u001b[0;32mas\u001b[0m \u001b[0mcomplex_warning\u001b[0m\u001b[0;34m:\u001b[0m\u001b[0;34m\u001b[0m\u001b[0;34m\u001b[0m\u001b[0m\n\u001b[1;32m    675\u001b[0m                 raise ValueError(\"Complex data not supported\\n\"\n",
      "\u001b[0;32m~/anaconda3/envs/python-intro/lib/python3.9/site-packages/numpy/core/_asarray.py\u001b[0m in \u001b[0;36masarray\u001b[0;34m(a, dtype, order, like)\u001b[0m\n\u001b[1;32m    100\u001b[0m         \u001b[0;32mreturn\u001b[0m \u001b[0m_asarray_with_like\u001b[0m\u001b[0;34m(\u001b[0m\u001b[0ma\u001b[0m\u001b[0;34m,\u001b[0m \u001b[0mdtype\u001b[0m\u001b[0;34m=\u001b[0m\u001b[0mdtype\u001b[0m\u001b[0;34m,\u001b[0m \u001b[0morder\u001b[0m\u001b[0;34m=\u001b[0m\u001b[0morder\u001b[0m\u001b[0;34m,\u001b[0m \u001b[0mlike\u001b[0m\u001b[0;34m=\u001b[0m\u001b[0mlike\u001b[0m\u001b[0;34m)\u001b[0m\u001b[0;34m\u001b[0m\u001b[0;34m\u001b[0m\u001b[0m\n\u001b[1;32m    101\u001b[0m \u001b[0;34m\u001b[0m\u001b[0m\n\u001b[0;32m--> 102\u001b[0;31m     \u001b[0;32mreturn\u001b[0m \u001b[0marray\u001b[0m\u001b[0;34m(\u001b[0m\u001b[0ma\u001b[0m\u001b[0;34m,\u001b[0m \u001b[0mdtype\u001b[0m\u001b[0;34m,\u001b[0m \u001b[0mcopy\u001b[0m\u001b[0;34m=\u001b[0m\u001b[0;32mFalse\u001b[0m\u001b[0;34m,\u001b[0m \u001b[0morder\u001b[0m\u001b[0;34m=\u001b[0m\u001b[0morder\u001b[0m\u001b[0;34m)\u001b[0m\u001b[0;34m\u001b[0m\u001b[0;34m\u001b[0m\u001b[0m\n\u001b[0m\u001b[1;32m    103\u001b[0m \u001b[0;34m\u001b[0m\u001b[0m\n\u001b[1;32m    104\u001b[0m \u001b[0;34m\u001b[0m\u001b[0m\n",
      "\u001b[0;31mMemoryError\u001b[0m: Unable to allocate 63.6 GiB for an array with shape (8332211, 1024) and data type float64"
     ]
    }
   ],
   "source": [
    "#try 4... look at overfitting? \n",
    "classifier4 = MLPClassifier(activation='relu', solver='adam', max_iter=60, \n",
    "                           early_stopping=True, n_iter_no_change = 5, verbose=True, \n",
    "                            hidden_layer_sizes = (512, 380, 156, 49))\n",
    "classifier4.fit(X_train, y_train)\n",
    "\n",
    "from joblib import dump\n",
    "dump(classifier4, 'saved_notebook_model4.joblib')\n",
    "print(\"done!\")\n",
    "\n",
    "#memory error:"
   ]
  },
  {
   "cell_type": "markdown",
   "id": "c26436c7",
   "metadata": {},
   "source": [
    "## Evaluating..."
   ]
  },
  {
   "cell_type": "code",
   "execution_count": 16,
   "id": "502a4e24",
   "metadata": {},
   "outputs": [
    {
     "name": "stdout",
     "output_type": "stream",
     "text": [
      "[2 1 4 2 2 4 4 2 1 3 3 1 1 2 3 1 3 3 2 5 3 2 3 1 2 1 4 2 3 3 4 3 4 2 3 2 2\n",
      " 2 2 1 2 3 2 5 5 2 4 4 1 2 3 7 2 1 2 1 2 1 5 2 2 3 5 4 1 3 1 3 3 2 3 3 1 3\n",
      " 1 1 3 5 6 1 2 2 4 2 2 6 3 1 1 2 5 2 3 2 2 3 2 3 2 1 2 2 2 6 2 3 2 1 2 2 3\n",
      " 4 1 3 2 3 1 2 2 1 3 3 4 3 2 1 2]\n"
     ]
    }
   ],
   "source": [
    "inputs = val_f['val_embeds']\n",
    "y_val = np.array(val_f['val_annots'])\n",
    "\n",
    "predictions1 = classifier.predict(inputs)\n",
    "predictions2 = classifier2.predict(inputs)\n",
    "predictions3 = classifier3.predict(inputs)\n",
    "\n",
    "\n",
    "val_prots_f = h5py.File('data/annots_per_prot_val.hdf5', 'r')\n",
    "annots_prot = np.array(val_prots_f[\"annots_prot\"])\n",
    "print(annots_prot)\n",
    "\n"
   ]
  },
  {
   "cell_type": "code",
   "execution_count": 17,
   "id": "04f29d9c",
   "metadata": {},
   "outputs": [],
   "source": [
    "def model_evaluation(model_predictions):\n",
    "    #evaluate per residue\n",
    "    accur = accuracy_score(y_val, model_predictions)\n",
    "    print(\"Per-residue accuracy: \", accur)\n",
    "    f1 = f1_score(y_val, model_predictions, average='weighted')\n",
    "    print(\"Per-residue f1: \", f1)\n",
    "\n",
    "    #generate protein pred\n",
    "    per_prot_likely = np.ndarray((127,7))\n",
    "    count = 0\n",
    "    current = 0\n",
    "    for prot in val_f['val_indv']:\n",
    "        #print(int(prot))\n",
    "        tally = np.zeros(7)\n",
    "        for i in range(current, current+int(prot)):\n",
    "            tally[model_predictions[i]-1] +=1\n",
    "        #print(tally)\n",
    "        class_likelihood = np.zeros(7)\n",
    "        for j in range(7):\n",
    "            class_likelihood[j] = tally[j]/int(prot)\n",
    "        #print(class_likelihood)\n",
    "        per_prot_likely[count] = class_likelihood\n",
    "        count+=1\n",
    "        current+=int(prot)\n",
    "\n",
    "    prot_preds = np.array([])\n",
    "    for pred in per_prot_likely:\n",
    "        prot_preds = np.append(prot_preds, np.argmax(pred)+1)\n",
    "    print(prot_preds)\n",
    "\n",
    "    #evaluation per protein\n",
    "    accur_prot = accuracy_score(annots_prot, prot_preds)\n",
    "    print(\"Per-protein accuracy: \", accur_prot)\n",
    "    f1_prot = f1_score(annots_prot, prot_preds, average='weighted')\n",
    "    print(\"Per-protein f1: \", f1_prot)\n",
    "    mcc_prot = matthews_corrcoef(annots_prot, prot_preds)\n",
    "    print(\"per-protein MCC: \", mcc_prot)"
   ]
  },
  {
   "cell_type": "code",
   "execution_count": 18,
   "id": "2ed31bd2",
   "metadata": {},
   "outputs": [
    {
     "name": "stdout",
     "output_type": "stream",
     "text": [
      "Per-residue accuracy:  0.576892968426223\n",
      "Per-residue f1:  0.5696988702051062\n",
      "[2. 1. 4. 2. 2. 1. 4. 2. 1. 3. 3. 1. 1. 2. 3. 1. 2. 3. 2. 5. 3. 2. 3. 1.\n",
      " 2. 1. 2. 2. 4. 2. 2. 3. 4. 2. 3. 2. 1. 3. 3. 1. 1. 3. 3. 1. 5. 2. 3. 1.\n",
      " 1. 2. 3. 1. 2. 1. 2. 1. 2. 2. 4. 2. 2. 2. 3. 3. 1. 2. 1. 3. 3. 2. 4. 3.\n",
      " 3. 3. 1. 1. 3. 3. 2. 3. 2. 2. 3. 2. 2. 1. 3. 2. 1. 2. 2. 3. 3. 2. 2. 3.\n",
      " 2. 3. 2. 1. 1. 2. 1. 6. 2. 3. 2. 1. 2. 2. 3. 3. 1. 3. 2. 2. 1. 2. 2. 1.\n",
      " 2. 2. 1. 3. 2. 1. 2.]\n",
      "Per-protein accuracy:  0.7007874015748031\n",
      "Per-protein f1:  0.6798947670021969\n",
      "per-protein MCC:  0.5928412293065698\n"
     ]
    }
   ],
   "source": [
    "model_evaluation(predictions1)"
   ]
  },
  {
   "cell_type": "code",
   "execution_count": 19,
   "id": "0bf6db21",
   "metadata": {},
   "outputs": [
    {
     "name": "stdout",
     "output_type": "stream",
     "text": [
      "Per-residue accuracy:  0.5762329429461696\n",
      "Per-residue f1:  0.5718228071014123\n",
      "[2. 1. 4. 2. 2. 1. 1. 2. 1. 3. 2. 1. 1. 2. 3. 1. 2. 3. 2. 5. 3. 2. 3. 1.\n",
      " 2. 1. 2. 2. 4. 2. 2. 3. 4. 2. 3. 2. 1. 3. 3. 1. 1. 3. 3. 1. 5. 2. 3. 1.\n",
      " 5. 2. 3. 1. 2. 1. 2. 1. 2. 1. 1. 2. 2. 2. 3. 3. 2. 2. 1. 3. 3. 2. 4. 3.\n",
      " 3. 2. 3. 1. 3. 2. 2. 1. 2. 2. 3. 2. 2. 1. 3. 3. 1. 2. 5. 3. 3. 2. 2. 3.\n",
      " 2. 3. 2. 1. 2. 2. 1. 6. 2. 3. 2. 1. 2. 2. 3. 3. 1. 3. 2. 2. 1. 2. 2. 1.\n",
      " 2. 3. 1. 3. 2. 1. 2.]\n",
      "Per-protein accuracy:  0.6929133858267716\n",
      "Per-protein f1:  0.6700106004438652\n",
      "per-protein MCC:  0.5822858491127619\n"
     ]
    }
   ],
   "source": [
    "model_evaluation(predictions2)"
   ]
  },
  {
   "cell_type": "code",
   "execution_count": 20,
   "id": "2acc88dd",
   "metadata": {},
   "outputs": [
    {
     "name": "stdout",
     "output_type": "stream",
     "text": [
      "Per-residue accuracy:  0.5690340603846568\n",
      "Per-residue f1:  0.5653651542414766\n",
      "[2. 1. 4. 2. 2. 4. 1. 2. 1. 3. 6. 1. 1. 2. 3. 1. 2. 3. 2. 5. 3. 2. 3. 1.\n",
      " 2. 1. 2. 2. 4. 2. 2. 3. 4. 2. 3. 2. 1. 3. 3. 1. 1. 3. 3. 1. 5. 2. 3. 1.\n",
      " 5. 2. 3. 1. 2. 1. 2. 1. 2. 1. 1. 2. 2. 2. 3. 3. 2. 2. 1. 3. 3. 2. 4. 3.\n",
      " 3. 2. 3. 1. 3. 3. 2. 1. 2. 2. 3. 2. 2. 1. 3. 3. 1. 2. 2. 3. 3. 2. 2. 3.\n",
      " 2. 3. 2. 1. 2. 2. 1. 6. 2. 3. 2. 1. 2. 2. 3. 3. 1. 3. 2. 2. 1. 2. 2. 1.\n",
      " 2. 2. 1. 3. 2. 1. 2.]\n",
      "Per-protein accuracy:  0.6850393700787402\n",
      "Per-protein f1:  0.6643233867408245\n",
      "per-protein MCC:  0.5714553440138229\n"
     ]
    }
   ],
   "source": [
    "model_evaluation(predictions3)"
   ]
  }
 ],
 "metadata": {
  "kernelspec": {
   "display_name": "python-intro",
   "language": "python",
   "name": "python-intro"
  },
  "language_info": {
   "codemirror_mode": {
    "name": "ipython",
    "version": 3
   },
   "file_extension": ".py",
   "mimetype": "text/x-python",
   "name": "python",
   "nbconvert_exporter": "python",
   "pygments_lexer": "ipython3",
   "version": "3.9.7"
  }
 },
 "nbformat": 4,
 "nbformat_minor": 5
}
