{
 "cells": [
  {
   "cell_type": "code",
   "execution_count": 2,
   "id": "4c40c99a",
   "metadata": {},
   "outputs": [],
   "source": [
    "import pandas as pd\n",
    "import numpy as np\n",
    "import matplotlib.pyplot as plt\n",
    "import scipy\n",
    "import seaborn as sns"
   ]
  },
  {
   "cell_type": "code",
   "execution_count": 3,
   "id": "75f3b188",
   "metadata": {},
   "outputs": [
    {
     "data": {
      "text/html": [
       "<div>\n",
       "<style scoped>\n",
       "    .dataframe tbody tr th:only-of-type {\n",
       "        vertical-align: middle;\n",
       "    }\n",
       "\n",
       "    .dataframe tbody tr th {\n",
       "        vertical-align: top;\n",
       "    }\n",
       "\n",
       "    .dataframe thead th {\n",
       "        text-align: right;\n",
       "    }\n",
       "</style>\n",
       "<table border=\"1\" class=\"dataframe\">\n",
       "  <thead>\n",
       "    <tr style=\"text-align: right;\">\n",
       "      <th></th>\n",
       "      <th>Test Set</th>\n",
       "    </tr>\n",
       "  </thead>\n",
       "  <tbody>\n",
       "    <tr>\n",
       "      <th>0</th>\n",
       "      <td>&gt;Q9ES89</td>\n",
       "    </tr>\n",
       "    <tr>\n",
       "      <th>1</th>\n",
       "      <td>&gt;Q95UN8</td>\n",
       "    </tr>\n",
       "    <tr>\n",
       "      <th>2</th>\n",
       "      <td>&gt;E8MF11</td>\n",
       "    </tr>\n",
       "    <tr>\n",
       "      <th>3</th>\n",
       "      <td>&gt;Q2YQS9</td>\n",
       "    </tr>\n",
       "    <tr>\n",
       "      <th>4</th>\n",
       "      <td>&gt;P11274</td>\n",
       "    </tr>\n",
       "  </tbody>\n",
       "</table>\n",
       "</div>"
      ],
      "text/plain": [
       "  Test Set\n",
       "0  >Q9ES89\n",
       "1  >Q95UN8\n",
       "2  >E8MF11\n",
       "3  >Q2YQS9\n",
       "4  >P11274"
      ]
     },
     "execution_count": 3,
     "metadata": {},
     "output_type": "execute_result"
    }
   ],
   "source": [
    "#READ IN DATA IN DATAFRAMES\n",
    "annotations = pd.read_table('data/ec_annotations_single.tab')\n",
    "\n",
    "training = pd.read_table('data/train_set.fasta', sep='\\n', skiprows=lambda x: (x != 0) and not x % 2)\n",
    "\n",
    "validation = pd.read_table('data/val_set.fasta', sep='\\n', skiprows=lambda x: (x != 0) and not x % 2)\n",
    "\n",
    "test = pd.read_table('data/test_set.fasta', sep='\\n', skiprows=lambda x: (x != 0) and not x % 2)\n",
    "test.head()"
   ]
  },
  {
   "cell_type": "code",
   "execution_count": 4,
   "id": "030b0604",
   "metadata": {},
   "outputs": [
    {
     "name": "stdout",
     "output_type": "stream",
     "text": [
      "Train: 59594, Val: 400, Test: 600\n",
      "Total: 60594\n",
      "Train Percentage: 98.34967158464535, Val Percentage: 0.6601313661418622, Test Percentage: 0.9901970492127934 \n"
     ]
    }
   ],
   "source": [
    "#Size of data sets\n",
    "train_size = training.shape[0]\n",
    "val_size = validation.shape[0]\n",
    "test_size = test.shape[0]\n",
    "total = train_size + test_size + val_size\n",
    "print(f\"Train: {train_size}, Val: {val_size}, Test: {test_size}\")\n",
    "print(f\"Total: {total}\")\n",
    "print(f\"Train Percentage: {(train_size/total)*100}, Val Percentage: {(val_size/total)*100}, Test Percentage: {(test_size/total)*100} \")"
   ]
  },
  {
   "cell_type": "code",
   "execution_count": 5,
   "id": "30afea5c",
   "metadata": {},
   "outputs": [
    {
     "data": {
      "text/html": [
       "<div>\n",
       "<style scoped>\n",
       "    .dataframe tbody tr th:only-of-type {\n",
       "        vertical-align: middle;\n",
       "    }\n",
       "\n",
       "    .dataframe tbody tr th {\n",
       "        vertical-align: top;\n",
       "    }\n",
       "\n",
       "    .dataframe thead th {\n",
       "        text-align: right;\n",
       "    }\n",
       "</style>\n",
       "<table border=\"1\" class=\"dataframe\">\n",
       "  <thead>\n",
       "    <tr style=\"text-align: right;\">\n",
       "      <th></th>\n",
       "      <th>Entry</th>\n",
       "      <th>EC_number</th>\n",
       "    </tr>\n",
       "  </thead>\n",
       "  <tbody>\n",
       "    <tr>\n",
       "      <th>0</th>\n",
       "      <td>Q9SLF3</td>\n",
       "      <td>3.6.5.-</td>\n",
       "    </tr>\n",
       "    <tr>\n",
       "      <th>1</th>\n",
       "      <td>Q0KHQ5</td>\n",
       "      <td>2.7.11.1</td>\n",
       "    </tr>\n",
       "    <tr>\n",
       "      <th>2</th>\n",
       "      <td>Q8RWV0</td>\n",
       "      <td>2.2.1.1</td>\n",
       "    </tr>\n",
       "    <tr>\n",
       "      <th>3</th>\n",
       "      <td>P9WG25</td>\n",
       "      <td>2.2.1.1</td>\n",
       "    </tr>\n",
       "    <tr>\n",
       "      <th>4</th>\n",
       "      <td>P82281</td>\n",
       "      <td>1.-.-.-</td>\n",
       "    </tr>\n",
       "  </tbody>\n",
       "</table>\n",
       "</div>"
      ],
      "text/plain": [
       "    Entry EC_number\n",
       "0  Q9SLF3   3.6.5.-\n",
       "1  Q0KHQ5  2.7.11.1\n",
       "2  Q8RWV0   2.2.1.1\n",
       "3  P9WG25   2.2.1.1\n",
       "4  P82281   1.-.-.-"
      ]
     },
     "execution_count": 5,
     "metadata": {},
     "output_type": "execute_result"
    }
   ],
   "source": [
    "annotations.head()"
   ]
  },
  {
   "cell_type": "code",
   "execution_count": 6,
   "id": "9acf1ed7",
   "metadata": {},
   "outputs": [
    {
     "data": {
      "text/html": [
       "<div>\n",
       "<style scoped>\n",
       "    .dataframe tbody tr th:only-of-type {\n",
       "        vertical-align: middle;\n",
       "    }\n",
       "\n",
       "    .dataframe tbody tr th {\n",
       "        vertical-align: top;\n",
       "    }\n",
       "\n",
       "    .dataframe thead th {\n",
       "        text-align: right;\n",
       "    }\n",
       "</style>\n",
       "<table border=\"1\" class=\"dataframe\">\n",
       "  <thead>\n",
       "    <tr style=\"text-align: right;\">\n",
       "      <th></th>\n",
       "      <th>Train set</th>\n",
       "    </tr>\n",
       "  </thead>\n",
       "  <tbody>\n",
       "    <tr>\n",
       "      <th>0</th>\n",
       "      <td>O15231</td>\n",
       "    </tr>\n",
       "    <tr>\n",
       "      <th>1</th>\n",
       "      <td>O66406</td>\n",
       "    </tr>\n",
       "    <tr>\n",
       "      <th>2</th>\n",
       "      <td>P34509</td>\n",
       "    </tr>\n",
       "    <tr>\n",
       "      <th>3</th>\n",
       "      <td>O31933</td>\n",
       "    </tr>\n",
       "    <tr>\n",
       "      <th>4</th>\n",
       "      <td>O31923</td>\n",
       "    </tr>\n",
       "  </tbody>\n",
       "</table>\n",
       "</div>"
      ],
      "text/plain": [
       "  Train set\n",
       "0    O15231\n",
       "1    O66406\n",
       "2    P34509\n",
       "3    O31933\n",
       "4    O31923"
      ]
     },
     "execution_count": 6,
     "metadata": {},
     "output_type": "execute_result"
    }
   ],
   "source": [
    "validation['Validation set'] = validation['Validation set'].str[1:]\n",
    "training['Train set'] = training['Train set'].str[1:]\n",
    "test['Test Set'] = test['Test Set'].str[1:]\n",
    "training.head()"
   ]
  },
  {
   "cell_type": "code",
   "execution_count": 38,
   "id": "6e3bbdab",
   "metadata": {},
   "outputs": [
    {
     "data": {
      "text/html": [
       "<div>\n",
       "<style scoped>\n",
       "    .dataframe tbody tr th:only-of-type {\n",
       "        vertical-align: middle;\n",
       "    }\n",
       "\n",
       "    .dataframe tbody tr th {\n",
       "        vertical-align: top;\n",
       "    }\n",
       "\n",
       "    .dataframe thead th {\n",
       "        text-align: right;\n",
       "    }\n",
       "</style>\n",
       "<table border=\"1\" class=\"dataframe\">\n",
       "  <thead>\n",
       "    <tr style=\"text-align: right;\">\n",
       "      <th></th>\n",
       "      <th>Number of Proteins</th>\n",
       "    </tr>\n",
       "  </thead>\n",
       "  <tbody>\n",
       "    <tr>\n",
       "      <th>training</th>\n",
       "      <td>59594</td>\n",
       "    </tr>\n",
       "    <tr>\n",
       "      <th>validation</th>\n",
       "      <td>400</td>\n",
       "    </tr>\n",
       "    <tr>\n",
       "      <th>test</th>\n",
       "      <td>600</td>\n",
       "    </tr>\n",
       "  </tbody>\n",
       "</table>\n",
       "</div>"
      ],
      "text/plain": [
       "            Number of Proteins\n",
       "training                 59594\n",
       "validation                 400\n",
       "test                       600"
      ]
     },
     "execution_count": 38,
     "metadata": {},
     "output_type": "execute_result"
    }
   ],
   "source": [
    "counts = np.array([train_size, val_size, test_size])\n",
    "counts_df = pd.DataFrame(data=counts, index=[\"training\", \"validation\", \"test\"], columns=[\"Number of Proteins\"])\n",
    "counts_df.head()"
   ]
  },
  {
   "cell_type": "code",
   "execution_count": 43,
   "id": "876e629d",
   "metadata": {},
   "outputs": [
    {
     "data": {
      "text/plain": [
       "[Text(0.5, 1.0, 'Datasets Distribution')]"
      ]
     },
     "execution_count": 43,
     "metadata": {},
     "output_type": "execute_result"
    },
    {
     "data": {
      "image/png": "[encoded data removed]",
      "text/plain": [
       "<Figure size 432x288 with 1 Axes>"
      ]
     },
     "metadata": {
      "needs_background": "light"
     },
     "output_type": "display_data"
    }
   ],
   "source": [
    "#visual for size of datasets\n",
    "\n",
    "\n",
    "sns.set_context(\"paper\")\n",
    "g = sns.barplot(x=['Training', 'Validation', 'Test'], y='Number of Proteins', data=counts_df, ci=None)\n",
    "for p in g.patches:\n",
    "    g.annotate(p.get_height(), \n",
    "                   (p.get_x() + p.get_width() / 2., p.get_height()), \n",
    "                   ha = 'center', va = 'center', \n",
    "                   xytext = (0, 9), \n",
    "                   textcoords = 'offset points')\n",
    "sns.despine()\n",
    "g.set(title=\"Datasets Distribution\")"
   ]
  },
  {
   "cell_type": "code",
   "execution_count": 9,
   "id": "e14d882b",
   "metadata": {},
   "outputs": [],
   "source": [
    "#VALIDATION enzyme vs non enzyme\n",
    "proteins = set(annotations['Entry'])\n",
    "\n",
    "current = validation['Validation set']\n",
    "val_enzymes = np.array([])\n",
    "for i in range(len(current)):\n",
    "    if current.loc[i] in proteins:\n",
    "        val_enzymes = np.append(val_enzymes, current.loc[i])\n",
    "#print(val_enzymes)\n",
    "\n",
    "current = training['Train set']\n",
    "train_enzymes = np.array([])\n",
    "for i in range(len(current)):\n",
    "    if current.loc[i] in proteins:\n",
    "        train_enzymes = np.append(train_enzymes, current.loc[i])\n",
    "\n",
    "current = test['Test Set']\n",
    "test_enzymes = np.array([])\n",
    "for i in range(len(current)):\n",
    "    if current.loc[i] in proteins:\n",
    "        test_enzymes = np.append(test_enzymes, current.loc[i])"
   ]
  },
  {
   "cell_type": "code",
   "execution_count": 34,
   "id": "4710ee8b",
   "metadata": {},
   "outputs": [
    {
     "data": {
      "image/png": "[encoded data removed]",
      "text/plain": [
       "<Figure size 432x288 with 1 Axes>"
      ]
     },
     "metadata": {
      "needs_background": "light"
     },
     "output_type": "display_data"
    }
   ],
   "source": [
    "#VALIDATION enzyme vs non enzyme\n",
    "val_negative = np.array([len(val_enzymes), (val_size-len(val_enzymes))])\n",
    "df1 = pd.DataFrame(data=val_negative, index = ['Enzyme', 'Non-Enzyme'], columns = ['Number of Proteins'])\n",
    "sns.set_context(\"notebook\")\n",
    "g1 = sns.barplot(x=['Enzyme', 'Non-Enzyme'], y = 'Number of Proteins', data = df1, ci=None).set(title=\"Validation Set: Protein Distribution\")\n"
   ]
  },
  {
   "cell_type": "code",
   "execution_count": 36,
   "id": "03b22850",
   "metadata": {},
   "outputs": [
    {
     "data": {
      "image/png": "[encoded data removed]",
      "text/plain": [
       "<Figure size 432x288 with 1 Axes>"
      ]
     },
     "metadata": {
      "needs_background": "light"
     },
     "output_type": "display_data"
    }
   ],
   "source": [
    "#TRAINING\n",
    "train_negative = np.array([len(train_enzymes), (train_size-len(train_enzymes))])\n",
    "df2 = pd.DataFrame(data=train_negative, index = ['Enzyme', 'Non-Enzyme'], columns = ['Number of Proteins'])\n",
    "sns.set_context(\"notebook\")\n",
    "g2 = sns.barplot(x=['Enzyme', 'Non-Enzyme'], y = 'Number of Proteins', data = df2, ci=None).set(title=\"Training Set: Protein Distribution\")"
   ]
  },
  {
   "cell_type": "code",
   "execution_count": 37,
   "id": "adfb970c",
   "metadata": {},
   "outputs": [
    {
     "data": {
      "image/png": "[encoded data removed]",
      "text/plain": [
       "<Figure size 432x288 with 1 Axes>"
      ]
     },
     "metadata": {
      "needs_background": "light"
     },
     "output_type": "display_data"
    }
   ],
   "source": [
    "#TEST\n",
    "test_negative = np.array([len(test_enzymes), (test_size-len(test_enzymes))])\n",
    "df3 = pd.DataFrame(data=test_negative, index = ['Enzyme', 'Non-Enzyme'], columns = ['Number of Proteins'])\n",
    "sns.set_context(\"notebook\")\n",
    "g3 = sns.barplot(x=['Enzyme', 'Non-Enzyme'], y = 'Number of Proteins', data = df3, ci=None).set(title=\"Test Set: Protein Distribution\")"
   ]
  },
  {
   "cell_type": "code",
   "execution_count": 13,
   "id": "86531ca4",
   "metadata": {},
   "outputs": [],
   "source": [
    "annot_dict = pd.Series(annotations.EC_number.values, index = annotations.Entry).to_dict()"
   ]
  },
  {
   "cell_type": "code",
   "execution_count": 14,
   "id": "b54e9763",
   "metadata": {},
   "outputs": [],
   "source": [
    "#VALIDATION label distribution in 6 1st level ec classes\n",
    "val_classes = {1: 0, 2:0, 3:0, 4:0, 5:0, 6:0, 7:0}\n",
    "none = 0\n",
    "for i in range(len(val_enzymes)):\n",
    "    curr = annot_dict[val_enzymes[i]]\n",
    "    if curr[0] == '1':\n",
    "        val_classes[1] +=1\n",
    "    elif curr[0] == '2':\n",
    "        val_classes[2] +=1\n",
    "    elif curr[0] == '3':\n",
    "        val_classes[3] +=1\n",
    "    elif curr[0] == '4':\n",
    "        val_classes[4] +=1\n",
    "    elif curr[0] == '5':\n",
    "        val_classes[5] +=1\n",
    "    elif curr[0] == '6':\n",
    "        val_classes[6] +=1\n",
    "    elif curr[0] == '7':\n",
    "        val_classes[7] +=1\n",
    "    else:\n",
    "        none +=1\n"
   ]
  },
  {
   "cell_type": "code",
   "execution_count": 20,
   "id": "55181d21",
   "metadata": {},
   "outputs": [
    {
     "name": "stdout",
     "output_type": "stream",
     "text": [
      "{1: 26, 2: 46, 3: 32, 4: 12, 5: 7, 6: 3, 7: 1}\n",
      "0\n"
     ]
    }
   ],
   "source": [
    "print(val_classes)\n",
    "print(none)"
   ]
  },
  {
   "cell_type": "code",
   "execution_count": 33,
   "id": "32a801e6",
   "metadata": {},
   "outputs": [
    {
     "data": {
      "image/png": "[encoded data removed]",
      "text/plain": [
       "<Figure size 432x288 with 1 Axes>"
      ]
     },
     "metadata": {
      "needs_background": "light"
     },
     "output_type": "display_data"
    }
   ],
   "source": [
    "#VALIDATION VISUAL\n",
    "\n",
    "val_counts = np.fromiter(val_classes.values(), dtype=int)\n",
    "val_df = pd.DataFrame(data=val_counts, index=['1','2','3','4','5','6','7'], columns=['Number of Enzymes'])\n",
    "sns.set_context(\"notebook\")\n",
    "val_g = sns.barplot(x=['1','2','3','4','5','6','7'], y='Number of Enzymes', data=val_df, ci=None).set(title=\"Validation Set: Enzyme Distribution\", xlabel='First EC Class')"
   ]
  },
  {
   "cell_type": "code",
   "execution_count": 22,
   "id": "f9ddcb32",
   "metadata": {},
   "outputs": [],
   "source": [
    "#TEST label distribution in 6 1st level ec classes\n",
    "test_classes = {1: 0, 2:0, 3:0, 4:0, 5:0, 6:0, 7:0}\n",
    "none2 = 0\n",
    "for i in range(len(test_enzymes)):\n",
    "    curr = annot_dict[test_enzymes[i]]\n",
    "    if curr[0] == '1':\n",
    "        test_classes[1] +=1\n",
    "    elif curr[0] == '2':\n",
    "        test_classes[2] +=1\n",
    "    elif curr[0] == '3':\n",
    "        test_classes[3] +=1\n",
    "    elif curr[0] == '4':\n",
    "        test_classes[4] +=1\n",
    "    elif curr[0] == '5':\n",
    "        test_classes[5] +=1\n",
    "    elif curr[0] == '6':\n",
    "        test_classes[6] +=1\n",
    "    elif curr[0] == '7':\n",
    "        test_classes[7] +=1\n",
    "    else:\n",
    "        none2 +=1\n"
   ]
  },
  {
   "cell_type": "code",
   "execution_count": 23,
   "id": "1ca2f82a",
   "metadata": {},
   "outputs": [
    {
     "name": "stdout",
     "output_type": "stream",
     "text": [
      "{1: 38, 2: 69, 3: 47, 4: 18, 5: 10, 6: 5, 7: 1}\n",
      "0\n"
     ]
    }
   ],
   "source": [
    "print(test_classes)\n",
    "print(none2)"
   ]
  },
  {
   "cell_type": "code",
   "execution_count": 32,
   "id": "cdea5863",
   "metadata": {},
   "outputs": [
    {
     "data": {
      "image/png": "[encoded data removed]",
      "text/plain": [
       "<Figure size 432x288 with 1 Axes>"
      ]
     },
     "metadata": {
      "needs_background": "light"
     },
     "output_type": "display_data"
    }
   ],
   "source": [
    "#TEST VISUAL\n",
    "\n",
    "test_counts = np.fromiter(test_classes.values(), dtype=int)\n",
    "test_df = pd.DataFrame(data=test_counts, index=['1','2','3','4','5','6','7'], columns=['Number of Enzymes'])\n",
    "sns.set_context(\"notebook\")\n",
    "test_g = sns.barplot(x=['1','2','3','4','5','6','7'], y='Number of Enzymes', data=test_df, ci=None).set(title=\"Test Set: Enzyme Distribution\", xlabel='First EC Class')"
   ]
  },
  {
   "cell_type": "code",
   "execution_count": 24,
   "id": "37f696d1",
   "metadata": {},
   "outputs": [
    {
     "name": "stdout",
     "output_type": "stream",
     "text": [
      "{1: 2499, 2: 6099, 3: 5753, 4: 1031, 5: 744, 6: 1172, 7: 366}\n"
     ]
    }
   ],
   "source": [
    "#TRAIN label distribution in 6 1st level ec classes\n",
    "train_classes = {1: 0, 2:0, 3:0, 4:0, 5:0, 6:0, 7:0}\n",
    "none3 = 0\n",
    "for i in range(len(train_enzymes)):\n",
    "    curr = annot_dict[train_enzymes[i]]\n",
    "    if curr[0] == '1':\n",
    "        train_classes[1] +=1\n",
    "    elif curr[0] == '2':\n",
    "        train_classes[2] +=1\n",
    "    elif curr[0] == '3':\n",
    "        train_classes[3] +=1\n",
    "    elif curr[0] == '4':\n",
    "        train_classes[4] +=1\n",
    "    elif curr[0] == '5':\n",
    "        train_classes[5] +=1\n",
    "    elif curr[0] == '6':\n",
    "        train_classes[6] +=1\n",
    "    elif curr[0] == '7':\n",
    "        train_classes[7] +=1\n",
    "    else:\n",
    "        none3 +=1\n"
   ]
  },
  {
   "cell_type": "code",
   "execution_count": 25,
   "id": "77e2234e",
   "metadata": {},
   "outputs": [
    {
     "name": "stdout",
     "output_type": "stream",
     "text": [
      "{1: 2499, 2: 6099, 3: 5753, 4: 1031, 5: 744, 6: 1172, 7: 366}\n",
      "0\n"
     ]
    }
   ],
   "source": [
    "print(train_classes)\n",
    "print(none3)"
   ]
  },
  {
   "cell_type": "code",
   "execution_count": 30,
   "id": "3ee25063",
   "metadata": {},
   "outputs": [
    {
     "data": {
      "image/png": "[encoded data removed]",
      "text/plain": [
       "<Figure size 432x288 with 1 Axes>"
      ]
     },
     "metadata": {
      "needs_background": "light"
     },
     "output_type": "display_data"
    }
   ],
   "source": [
    "#TRAIN VISUAL\n",
    "\n",
    "train_counts = np.fromiter(train_classes.values(), dtype=int)\n",
    "train_df = pd.DataFrame(data=train_counts, index=['1','2','3','4','5','6','7'], columns=['Number of Enzymes'])\n",
    "sns.set_context(\"notebook\")\n",
    "train_g = sns.barplot(x=['1','2','3','4','5','6','7'], y='Number of Enzymes', data=train_df, ci=None).set(title=\"Training Set: Enzyme Distribution\", xlabel='First EC Class')"
   ]
  }
 ],
 "metadata": {
  "kernelspec": {
   "display_name": "python-intro",
   "language": "python",
   "name": "python-intro"
  },
  "language_info": {
   "codemirror_mode": {
    "name": "ipython",
    "version": 3
   },
   "file_extension": ".py",
   "mimetype": "text/x-python",
   "name": "python",
   "nbconvert_exporter": "python",
   "pygments_lexer": "ipython3",
   "version": "3.9.2"
  }
 },
 "nbformat": 4,
 "nbformat_minor": 5
}
